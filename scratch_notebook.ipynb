{
 "cells": [
  {
   "cell_type": "code",
   "execution_count": 1,
   "metadata": {},
   "outputs": [],
   "source": [
    "import warnings\n",
    "warnings.filterwarnings(\"ignore\")\n",
    "import env\n",
    "import pandas as pd\n",
    "import numpy as np\n",
    "from pydataset import data\n",
    "import matplotlib.pyplot as plt\n",
    "from matplotlib import cm\n",
    "import seaborn as sns\n",
    "import wrangle_zillow as wr\n",
    "import explore as ex\n",
    "# supress scientific notation\n",
    "np.set_printoptions(suppress=True)\n",
    "\n",
    "from sklearn.preprocessing import MinMaxScaler\n",
    "from sklearn.cluster import KMeans\n",
    "from sklearn.impute import SimpleImputer"
   ]
  },
  {
   "cell_type": "code",
   "execution_count": 2,
   "metadata": {},
   "outputs": [],
   "source": [
    "zillow_df = pd.read_csv('zillow1.csv')"
   ]
  },
  {
   "cell_type": "code",
   "execution_count": 3,
   "metadata": {},
   "outputs": [
    {
     "data": {
      "text/plain": [
       "(77381,)"
      ]
     },
     "execution_count": 3,
     "metadata": {},
     "output_type": "execute_result"
    }
   ],
   "source": [
    "zillow_df.parcelid.unique().shape"
   ]
  },
  {
   "cell_type": "code",
   "execution_count": 4,
   "metadata": {},
   "outputs": [
    {
     "name": "stdout",
     "output_type": "stream",
     "text": [
      "Your selected dataframe has 69 columns.\n",
      "There are 52columns that have missing values.\n"
     ]
    },
    {
     "data": {
      "text/html": [
       "<div>\n",
       "<style scoped>\n",
       "    .dataframe tbody tr th:only-of-type {\n",
       "        vertical-align: middle;\n",
       "    }\n",
       "\n",
       "    .dataframe tbody tr th {\n",
       "        vertical-align: top;\n",
       "    }\n",
       "\n",
       "    .dataframe thead th {\n",
       "        text-align: right;\n",
       "    }\n",
       "</style>\n",
       "<table border=\"1\" class=\"dataframe\">\n",
       "  <thead>\n",
       "    <tr style=\"text-align: right;\">\n",
       "      <th></th>\n",
       "      <th>Missing Values</th>\n",
       "      <th>% of Total Values</th>\n",
       "    </tr>\n",
       "  </thead>\n",
       "  <tbody>\n",
       "    <tr>\n",
       "      <th>buildingclasstypeid</th>\n",
       "      <td>77559</td>\n",
       "      <td>100.0</td>\n",
       "    </tr>\n",
       "    <tr>\n",
       "      <th>buildingclassdesc</th>\n",
       "      <td>77559</td>\n",
       "      <td>100.0</td>\n",
       "    </tr>\n",
       "    <tr>\n",
       "      <th>finishedsquarefeet13</th>\n",
       "      <td>77532</td>\n",
       "      <td>99.9</td>\n",
       "    </tr>\n",
       "    <tr>\n",
       "      <th>basementsqft</th>\n",
       "      <td>77524</td>\n",
       "      <td>99.9</td>\n",
       "    </tr>\n",
       "    <tr>\n",
       "      <th>storydesc</th>\n",
       "      <td>77524</td>\n",
       "      <td>99.9</td>\n",
       "    </tr>\n",
       "    <tr>\n",
       "      <th>storytypeid</th>\n",
       "      <td>77524</td>\n",
       "      <td>99.9</td>\n",
       "    </tr>\n",
       "    <tr>\n",
       "      <th>yardbuildingsqft26</th>\n",
       "      <td>77504</td>\n",
       "      <td>99.9</td>\n",
       "    </tr>\n",
       "    <tr>\n",
       "      <th>fireplaceflag</th>\n",
       "      <td>77402</td>\n",
       "      <td>99.8</td>\n",
       "    </tr>\n",
       "    <tr>\n",
       "      <th>architecturalstyledesc</th>\n",
       "      <td>77368</td>\n",
       "      <td>99.7</td>\n",
       "    </tr>\n",
       "    <tr>\n",
       "      <th>architecturalstyletypeid</th>\n",
       "      <td>77368</td>\n",
       "      <td>99.7</td>\n",
       "    </tr>\n",
       "    <tr>\n",
       "      <th>typeconstructiondesc</th>\n",
       "      <td>77352</td>\n",
       "      <td>99.7</td>\n",
       "    </tr>\n",
       "    <tr>\n",
       "      <th>typeconstructiontypeid</th>\n",
       "      <td>77352</td>\n",
       "      <td>99.7</td>\n",
       "    </tr>\n",
       "    <tr>\n",
       "      <th>finishedsquarefeet6</th>\n",
       "      <td>77188</td>\n",
       "      <td>99.5</td>\n",
       "    </tr>\n",
       "    <tr>\n",
       "      <th>pooltypeid10</th>\n",
       "      <td>77109</td>\n",
       "      <td>99.4</td>\n",
       "    </tr>\n",
       "    <tr>\n",
       "      <th>decktypeid</th>\n",
       "      <td>76960</td>\n",
       "      <td>99.2</td>\n",
       "    </tr>\n",
       "    <tr>\n",
       "      <th>poolsizesum</th>\n",
       "      <td>76705</td>\n",
       "      <td>98.9</td>\n",
       "    </tr>\n",
       "    <tr>\n",
       "      <th>pooltypeid2</th>\n",
       "      <td>76500</td>\n",
       "      <td>98.6</td>\n",
       "    </tr>\n",
       "    <tr>\n",
       "      <th>hashottuborspa</th>\n",
       "      <td>76035</td>\n",
       "      <td>98.0</td>\n",
       "    </tr>\n",
       "    <tr>\n",
       "      <th>yardbuildingsqft17</th>\n",
       "      <td>75181</td>\n",
       "      <td>96.9</td>\n",
       "    </tr>\n",
       "    <tr>\n",
       "      <th>taxdelinquencyyear</th>\n",
       "      <td>74674</td>\n",
       "      <td>96.3</td>\n",
       "    </tr>\n",
       "    <tr>\n",
       "      <th>taxdelinquencyflag</th>\n",
       "      <td>74674</td>\n",
       "      <td>96.3</td>\n",
       "    </tr>\n",
       "    <tr>\n",
       "      <th>finishedsquarefeet15</th>\n",
       "      <td>74547</td>\n",
       "      <td>96.1</td>\n",
       "    </tr>\n",
       "    <tr>\n",
       "      <th>finishedsquarefeet50</th>\n",
       "      <td>71539</td>\n",
       "      <td>92.2</td>\n",
       "    </tr>\n",
       "    <tr>\n",
       "      <th>finishedfloor1squarefeet</th>\n",
       "      <td>71539</td>\n",
       "      <td>92.2</td>\n",
       "    </tr>\n",
       "    <tr>\n",
       "      <th>fireplacecnt</th>\n",
       "      <td>69287</td>\n",
       "      <td>89.3</td>\n",
       "    </tr>\n",
       "    <tr>\n",
       "      <th>threequarterbathnbr</th>\n",
       "      <td>67469</td>\n",
       "      <td>87.0</td>\n",
       "    </tr>\n",
       "    <tr>\n",
       "      <th>pooltypeid7</th>\n",
       "      <td>62496</td>\n",
       "      <td>80.6</td>\n",
       "    </tr>\n",
       "    <tr>\n",
       "      <th>poolcnt</th>\n",
       "      <td>61401</td>\n",
       "      <td>79.2</td>\n",
       "    </tr>\n",
       "    <tr>\n",
       "      <th>numberofstories</th>\n",
       "      <td>59978</td>\n",
       "      <td>77.3</td>\n",
       "    </tr>\n",
       "    <tr>\n",
       "      <th>airconditioningdesc</th>\n",
       "      <td>52568</td>\n",
       "      <td>67.8</td>\n",
       "    </tr>\n",
       "    <tr>\n",
       "      <th>airconditioningtypeid</th>\n",
       "      <td>52568</td>\n",
       "      <td>67.8</td>\n",
       "    </tr>\n",
       "    <tr>\n",
       "      <th>garagetotalsqft</th>\n",
       "      <td>52057</td>\n",
       "      <td>67.1</td>\n",
       "    </tr>\n",
       "    <tr>\n",
       "      <th>garagecarcnt</th>\n",
       "      <td>52057</td>\n",
       "      <td>67.1</td>\n",
       "    </tr>\n",
       "    <tr>\n",
       "      <th>regionidneighborhood</th>\n",
       "      <td>46601</td>\n",
       "      <td>60.1</td>\n",
       "    </tr>\n",
       "    <tr>\n",
       "      <th>heatingorsystemtypeid</th>\n",
       "      <td>28005</td>\n",
       "      <td>36.1</td>\n",
       "    </tr>\n",
       "    <tr>\n",
       "      <th>heatingorsystemdesc</th>\n",
       "      <td>28005</td>\n",
       "      <td>36.1</td>\n",
       "    </tr>\n",
       "    <tr>\n",
       "      <th>buildingqualitytypeid</th>\n",
       "      <td>27766</td>\n",
       "      <td>35.8</td>\n",
       "    </tr>\n",
       "    <tr>\n",
       "      <th>propertyzoningdesc</th>\n",
       "      <td>27100</td>\n",
       "      <td>34.9</td>\n",
       "    </tr>\n",
       "    <tr>\n",
       "      <th>unitcnt</th>\n",
       "      <td>26872</td>\n",
       "      <td>34.6</td>\n",
       "    </tr>\n",
       "    <tr>\n",
       "      <th>lotsizesquarefeet</th>\n",
       "      <td>8257</td>\n",
       "      <td>10.6</td>\n",
       "    </tr>\n",
       "    <tr>\n",
       "      <th>finishedsquarefeet12</th>\n",
       "      <td>3655</td>\n",
       "      <td>4.7</td>\n",
       "    </tr>\n",
       "    <tr>\n",
       "      <th>regionidcity</th>\n",
       "      <td>1472</td>\n",
       "      <td>1.9</td>\n",
       "    </tr>\n",
       "    <tr>\n",
       "      <th>calculatedbathnbr</th>\n",
       "      <td>615</td>\n",
       "      <td>0.8</td>\n",
       "    </tr>\n",
       "    <tr>\n",
       "      <th>fullbathcnt</th>\n",
       "      <td>615</td>\n",
       "      <td>0.8</td>\n",
       "    </tr>\n",
       "    <tr>\n",
       "      <th>yearbuilt</th>\n",
       "      <td>269</td>\n",
       "      <td>0.3</td>\n",
       "    </tr>\n",
       "    <tr>\n",
       "      <th>censustractandblock</th>\n",
       "      <td>247</td>\n",
       "      <td>0.3</td>\n",
       "    </tr>\n",
       "    <tr>\n",
       "      <th>calculatedfinishedsquarefeet</th>\n",
       "      <td>200</td>\n",
       "      <td>0.3</td>\n",
       "    </tr>\n",
       "    <tr>\n",
       "      <th>structuretaxvaluedollarcnt</th>\n",
       "      <td>115</td>\n",
       "      <td>0.1</td>\n",
       "    </tr>\n",
       "    <tr>\n",
       "      <th>regionidzip</th>\n",
       "      <td>50</td>\n",
       "      <td>0.1</td>\n",
       "    </tr>\n",
       "    <tr>\n",
       "      <th>taxamount</th>\n",
       "      <td>5</td>\n",
       "      <td>0.0</td>\n",
       "    </tr>\n",
       "    <tr>\n",
       "      <th>landtaxvaluedollarcnt</th>\n",
       "      <td>2</td>\n",
       "      <td>0.0</td>\n",
       "    </tr>\n",
       "    <tr>\n",
       "      <th>taxvaluedollarcnt</th>\n",
       "      <td>1</td>\n",
       "      <td>0.0</td>\n",
       "    </tr>\n",
       "  </tbody>\n",
       "</table>\n",
       "</div>"
      ],
      "text/plain": [
       "                              Missing Values  % of Total Values\n",
       "buildingclasstypeid                    77559              100.0\n",
       "buildingclassdesc                      77559              100.0\n",
       "finishedsquarefeet13                   77532               99.9\n",
       "basementsqft                           77524               99.9\n",
       "storydesc                              77524               99.9\n",
       "storytypeid                            77524               99.9\n",
       "yardbuildingsqft26                     77504               99.9\n",
       "fireplaceflag                          77402               99.8\n",
       "architecturalstyledesc                 77368               99.7\n",
       "architecturalstyletypeid               77368               99.7\n",
       "typeconstructiondesc                   77352               99.7\n",
       "typeconstructiontypeid                 77352               99.7\n",
       "finishedsquarefeet6                    77188               99.5\n",
       "pooltypeid10                           77109               99.4\n",
       "decktypeid                             76960               99.2\n",
       "poolsizesum                            76705               98.9\n",
       "pooltypeid2                            76500               98.6\n",
       "hashottuborspa                         76035               98.0\n",
       "yardbuildingsqft17                     75181               96.9\n",
       "taxdelinquencyyear                     74674               96.3\n",
       "taxdelinquencyflag                     74674               96.3\n",
       "finishedsquarefeet15                   74547               96.1\n",
       "finishedsquarefeet50                   71539               92.2\n",
       "finishedfloor1squarefeet               71539               92.2\n",
       "fireplacecnt                           69287               89.3\n",
       "threequarterbathnbr                    67469               87.0\n",
       "pooltypeid7                            62496               80.6\n",
       "poolcnt                                61401               79.2\n",
       "numberofstories                        59978               77.3\n",
       "airconditioningdesc                    52568               67.8\n",
       "airconditioningtypeid                  52568               67.8\n",
       "garagetotalsqft                        52057               67.1\n",
       "garagecarcnt                           52057               67.1\n",
       "regionidneighborhood                   46601               60.1\n",
       "heatingorsystemtypeid                  28005               36.1\n",
       "heatingorsystemdesc                    28005               36.1\n",
       "buildingqualitytypeid                  27766               35.8\n",
       "propertyzoningdesc                     27100               34.9\n",
       "unitcnt                                26872               34.6\n",
       "lotsizesquarefeet                       8257               10.6\n",
       "finishedsquarefeet12                    3655                4.7\n",
       "regionidcity                            1472                1.9\n",
       "calculatedbathnbr                        615                0.8\n",
       "fullbathcnt                              615                0.8\n",
       "yearbuilt                                269                0.3\n",
       "censustractandblock                      247                0.3\n",
       "calculatedfinishedsquarefeet             200                0.3\n",
       "structuretaxvaluedollarcnt               115                0.1\n",
       "regionidzip                               50                0.1\n",
       "taxamount                                  5                0.0\n",
       "landtaxvaluedollarcnt                      2                0.0\n",
       "taxvaluedollarcnt                          1                0.0"
      ]
     },
     "execution_count": 4,
     "metadata": {},
     "output_type": "execute_result"
    }
   ],
   "source": [
    "wr.missing_values_table(zillow_df)"
   ]
  },
  {
   "cell_type": "code",
   "execution_count": 5,
   "metadata": {},
   "outputs": [
    {
     "data": {
      "text/html": [
       "<div>\n",
       "<style scoped>\n",
       "    .dataframe tbody tr th:only-of-type {\n",
       "        vertical-align: middle;\n",
       "    }\n",
       "\n",
       "    .dataframe tbody tr th {\n",
       "        vertical-align: top;\n",
       "    }\n",
       "\n",
       "    .dataframe thead th {\n",
       "        text-align: right;\n",
       "    }\n",
       "</style>\n",
       "<table border=\"1\" class=\"dataframe\">\n",
       "  <thead>\n",
       "    <tr style=\"text-align: right;\">\n",
       "      <th></th>\n",
       "      <th>num_cols_missing</th>\n",
       "      <th>num_rows</th>\n",
       "      <th>pct_cols_missing</th>\n",
       "    </tr>\n",
       "  </thead>\n",
       "  <tbody>\n",
       "    <tr>\n",
       "      <th>0</th>\n",
       "      <td>23</td>\n",
       "      <td>2</td>\n",
       "      <td>11.5</td>\n",
       "    </tr>\n",
       "    <tr>\n",
       "      <th>1</th>\n",
       "      <td>24</td>\n",
       "      <td>13</td>\n",
       "      <td>12.0</td>\n",
       "    </tr>\n",
       "    <tr>\n",
       "      <th>2</th>\n",
       "      <td>25</td>\n",
       "      <td>24</td>\n",
       "      <td>12.5</td>\n",
       "    </tr>\n",
       "    <tr>\n",
       "      <th>3</th>\n",
       "      <td>26</td>\n",
       "      <td>65</td>\n",
       "      <td>13.0</td>\n",
       "    </tr>\n",
       "    <tr>\n",
       "      <th>4</th>\n",
       "      <td>27</td>\n",
       "      <td>316</td>\n",
       "      <td>13.5</td>\n",
       "    </tr>\n",
       "    <tr>\n",
       "      <th>5</th>\n",
       "      <td>28</td>\n",
       "      <td>457</td>\n",
       "      <td>14.0</td>\n",
       "    </tr>\n",
       "    <tr>\n",
       "      <th>6</th>\n",
       "      <td>29</td>\n",
       "      <td>5285</td>\n",
       "      <td>14.5</td>\n",
       "    </tr>\n",
       "    <tr>\n",
       "      <th>7</th>\n",
       "      <td>30</td>\n",
       "      <td>3465</td>\n",
       "      <td>15.0</td>\n",
       "    </tr>\n",
       "    <tr>\n",
       "      <th>8</th>\n",
       "      <td>31</td>\n",
       "      <td>9911</td>\n",
       "      <td>15.5</td>\n",
       "    </tr>\n",
       "    <tr>\n",
       "      <th>9</th>\n",
       "      <td>32</td>\n",
       "      <td>12606</td>\n",
       "      <td>16.0</td>\n",
       "    </tr>\n",
       "    <tr>\n",
       "      <th>10</th>\n",
       "      <td>33</td>\n",
       "      <td>14817</td>\n",
       "      <td>16.5</td>\n",
       "    </tr>\n",
       "    <tr>\n",
       "      <th>11</th>\n",
       "      <td>34</td>\n",
       "      <td>13356</td>\n",
       "      <td>17.0</td>\n",
       "    </tr>\n",
       "    <tr>\n",
       "      <th>12</th>\n",
       "      <td>35</td>\n",
       "      <td>5163</td>\n",
       "      <td>17.5</td>\n",
       "    </tr>\n",
       "    <tr>\n",
       "      <th>13</th>\n",
       "      <td>36</td>\n",
       "      <td>5793</td>\n",
       "      <td>18.0</td>\n",
       "    </tr>\n",
       "    <tr>\n",
       "      <th>14</th>\n",
       "      <td>37</td>\n",
       "      <td>3630</td>\n",
       "      <td>18.5</td>\n",
       "    </tr>\n",
       "    <tr>\n",
       "      <th>15</th>\n",
       "      <td>38</td>\n",
       "      <td>1932</td>\n",
       "      <td>19.0</td>\n",
       "    </tr>\n",
       "    <tr>\n",
       "      <th>16</th>\n",
       "      <td>39</td>\n",
       "      <td>285</td>\n",
       "      <td>19.5</td>\n",
       "    </tr>\n",
       "    <tr>\n",
       "      <th>17</th>\n",
       "      <td>40</td>\n",
       "      <td>230</td>\n",
       "      <td>20.0</td>\n",
       "    </tr>\n",
       "    <tr>\n",
       "      <th>18</th>\n",
       "      <td>41</td>\n",
       "      <td>29</td>\n",
       "      <td>20.5</td>\n",
       "    </tr>\n",
       "    <tr>\n",
       "      <th>19</th>\n",
       "      <td>42</td>\n",
       "      <td>26</td>\n",
       "      <td>21.0</td>\n",
       "    </tr>\n",
       "    <tr>\n",
       "      <th>20</th>\n",
       "      <td>43</td>\n",
       "      <td>29</td>\n",
       "      <td>21.5</td>\n",
       "    </tr>\n",
       "    <tr>\n",
       "      <th>21</th>\n",
       "      <td>44</td>\n",
       "      <td>79</td>\n",
       "      <td>22.0</td>\n",
       "    </tr>\n",
       "    <tr>\n",
       "      <th>22</th>\n",
       "      <td>45</td>\n",
       "      <td>50</td>\n",
       "      <td>22.5</td>\n",
       "    </tr>\n",
       "    <tr>\n",
       "      <th>23</th>\n",
       "      <td>46</td>\n",
       "      <td>5</td>\n",
       "      <td>23.0</td>\n",
       "    </tr>\n",
       "    <tr>\n",
       "      <th>24</th>\n",
       "      <td>47</td>\n",
       "      <td>3</td>\n",
       "      <td>23.5</td>\n",
       "    </tr>\n",
       "    <tr>\n",
       "      <th>25</th>\n",
       "      <td>48</td>\n",
       "      <td>3</td>\n",
       "      <td>24.0</td>\n",
       "    </tr>\n",
       "  </tbody>\n",
       "</table>\n",
       "</div>"
      ],
      "text/plain": [
       "    num_cols_missing  num_rows  pct_cols_missing\n",
       "0                 23         2              11.5\n",
       "1                 24        13              12.0\n",
       "2                 25        24              12.5\n",
       "3                 26        65              13.0\n",
       "4                 27       316              13.5\n",
       "5                 28       457              14.0\n",
       "6                 29      5285              14.5\n",
       "7                 30      3465              15.0\n",
       "8                 31      9911              15.5\n",
       "9                 32     12606              16.0\n",
       "10                33     14817              16.5\n",
       "11                34     13356              17.0\n",
       "12                35      5163              17.5\n",
       "13                36      5793              18.0\n",
       "14                37      3630              18.5\n",
       "15                38      1932              19.0\n",
       "16                39       285              19.5\n",
       "17                40       230              20.0\n",
       "18                41        29              20.5\n",
       "19                42        26              21.0\n",
       "20                43        29              21.5\n",
       "21                44        79              22.0\n",
       "22                45        50              22.5\n",
       "23                46         5              23.0\n",
       "24                47         3              23.5\n",
       "25                48         3              24.0"
      ]
     },
     "execution_count": 5,
     "metadata": {},
     "output_type": "execute_result"
    }
   ],
   "source": [
    "wr.cols_missing(zillow_df)"
   ]
  },
  {
   "cell_type": "code",
   "execution_count": 6,
   "metadata": {},
   "outputs": [
    {
     "data": {
      "text/plain": [
       "Unnamed: 0                        int64\n",
       "id                                int64\n",
       "parcelid                          int64\n",
       "airconditioningtypeid           float64\n",
       "architecturalstyletypeid        float64\n",
       "basementsqft                    float64\n",
       "bathroomcnt                     float64\n",
       "bedroomcnt                      float64\n",
       "buildingclasstypeid             float64\n",
       "buildingqualitytypeid           float64\n",
       "calculatedbathnbr               float64\n",
       "decktypeid                      float64\n",
       "finishedfloor1squarefeet        float64\n",
       "calculatedfinishedsquarefeet    float64\n",
       "finishedsquarefeet12            float64\n",
       "finishedsquarefeet13            float64\n",
       "finishedsquarefeet15            float64\n",
       "finishedsquarefeet50            float64\n",
       "finishedsquarefeet6             float64\n",
       "fips                            float64\n",
       "fireplacecnt                    float64\n",
       "fullbathcnt                     float64\n",
       "garagecarcnt                    float64\n",
       "garagetotalsqft                 float64\n",
       "hashottuborspa                  float64\n",
       "heatingorsystemtypeid           float64\n",
       "latitude                        float64\n",
       "longitude                       float64\n",
       "lotsizesquarefeet               float64\n",
       "poolcnt                         float64\n",
       "poolsizesum                     float64\n",
       "pooltypeid10                    float64\n",
       "pooltypeid2                     float64\n",
       "pooltypeid7                     float64\n",
       "propertycountylandusecode        object\n",
       "propertylandusetypeid           float64\n",
       "propertyzoningdesc               object\n",
       "rawcensustractandblock          float64\n",
       "regionidcity                    float64\n",
       "regionidcounty                  float64\n",
       "regionidneighborhood            float64\n",
       "regionidzip                     float64\n",
       "roomcnt                         float64\n",
       "storytypeid                     float64\n",
       "threequarterbathnbr             float64\n",
       "typeconstructiontypeid          float64\n",
       "unitcnt                         float64\n",
       "yardbuildingsqft17              float64\n",
       "yardbuildingsqft26              float64\n",
       "yearbuilt                       float64\n",
       "numberofstories                 float64\n",
       "fireplaceflag                   float64\n",
       "structuretaxvaluedollarcnt      float64\n",
       "taxvaluedollarcnt               float64\n",
       "assessmentyear                  float64\n",
       "landtaxvaluedollarcnt           float64\n",
       "taxamount                       float64\n",
       "taxdelinquencyflag               object\n",
       "taxdelinquencyyear              float64\n",
       "censustractandblock             float64\n",
       "logerror                        float64\n",
       "transactiondate                  object\n",
       "airconditioningdesc              object\n",
       "architecturalstyledesc           object\n",
       "buildingclassdesc                object\n",
       "heatingorsystemdesc              object\n",
       "propertylandusedesc              object\n",
       "storydesc                        object\n",
       "typeconstructiondesc             object\n",
       "dtype: object"
      ]
     },
     "execution_count": 6,
     "metadata": {},
     "output_type": "execute_result"
    }
   ],
   "source": [
    "zillow_df.dtypes"
   ]
  },
  {
   "cell_type": "code",
   "execution_count": 7,
   "metadata": {},
   "outputs": [
    {
     "data": {
      "image/png": "[encoded data removed]",
      "text/plain": [
       "<Figure size 432x288 with 1 Axes>"
      ]
     },
     "metadata": {
      "needs_background": "light"
     },
     "output_type": "display_data"
    },
    {
     "data": {
      "image/png": "[encoded data removed]",
      "text/plain": [
       "<Figure size 432x288 with 1 Axes>"
      ]
     },
     "metadata": {
      "needs_background": "light"
     },
     "output_type": "display_data"
    },
    {
     "data": {
      "image/png": "[encoded data removed]",
      "text/plain": [
       "<Figure size 432x288 with 1 Axes>"
      ]
     },
     "metadata": {
      "needs_background": "light"
     },
     "output_type": "display_data"
    },
    {
     "data": {
      "image/png": "[encoded data removed]",
      "text/plain": [
       "<Figure size 432x288 with 1 Axes>"
      ]
     },
     "metadata": {
      "needs_background": "light"
     },
     "output_type": "display_data"
    },
    {
     "data": {
      "image/png": "[encoded data removed]",
      "text/plain": [
       "<Figure size 432x288 with 1 Axes>"
      ]
     },
     "metadata": {
      "needs_background": "light"
     },
     "output_type": "display_data"
    },
    {
     "data": {
      "image/png": "[encoded data removed]",
      "text/plain": [
       "<Figure size 432x288 with 1 Axes>"
      ]
     },
     "metadata": {
      "needs_background": "light"
     },
     "output_type": "display_data"
    },
    {
     "data": {
      "image/png": "[encoded data removed]",
      "text/plain": [
       "<Figure size 432x288 with 1 Axes>"
      ]
     },
     "metadata": {
      "needs_background": "light"
     },
     "output_type": "display_data"
    },
    {
     "data": {
      "image/png": "[encoded data removed]",
      "text/plain": [
       "<Figure size 432x288 with 1 Axes>"
      ]
     },
     "metadata": {
      "needs_background": "light"
     },
     "output_type": "display_data"
    },
    {
     "data": {
      "image/png": "[encoded data removed]",
      "text/plain": [
       "<Figure size 432x288 with 1 Axes>"
      ]
     },
     "metadata": {
      "needs_background": "light"
     },
     "output_type": "display_data"
    },
    {
     "data": {
      "image/png": "[encoded data removed]",
      "text/plain": [
       "<Figure size 432x288 with 1 Axes>"
      ]
     },
     "metadata": {
      "needs_background": "light"
     },
     "output_type": "display_data"
    },
    {
     "data": {
      "image/png": "[encoded data removed]",
      "text/plain": [
       "<Figure size 432x288 with 1 Axes>"
      ]
     },
     "metadata": {
      "needs_background": "light"
     },
     "output_type": "display_data"
    },
    {
     "data": {
      "image/png": "[encoded data removed]",
      "text/plain": [
       "<Figure size 432x288 with 1 Axes>"
      ]
     },
     "metadata": {
      "needs_background": "light"
     },
     "output_type": "display_data"
    },
    {
     "data": {
      "image/png": "[encoded data removed]",
      "text/plain": [
       "<Figure size 432x288 with 1 Axes>"
      ]
     },
     "metadata": {
      "needs_background": "light"
     },
     "output_type": "display_data"
    },
    {
     "data": {
      "image/png": "[encoded data removed]",
      "text/plain": [
       "<Figure size 432x288 with 1 Axes>"
      ]
     },
     "metadata": {
      "needs_background": "light"
     },
     "output_type": "display_data"
    },
    {
     "data": {
      "image/png": "[encoded data removed]",
      "text/plain": [
       "<Figure size 432x288 with 1 Axes>"
      ]
     },
     "metadata": {
      "needs_background": "light"
     },
     "output_type": "display_data"
    },
    {
     "data": {
      "image/png": "[encoded data removed]",
      "text/plain": [
       "<Figure size 432x288 with 1 Axes>"
      ]
     },
     "metadata": {
      "needs_background": "light"
     },
     "output_type": "display_data"
    },
    {
     "data": {
      "image/png": "[encoded data removed]",
      "text/plain": [
       "<Figure size 432x288 with 1 Axes>"
      ]
     },
     "metadata": {
      "needs_background": "light"
     },
     "output_type": "display_data"
    },
    {
     "data": {
      "image/png": "[encoded data removed]",
      "text/plain": [
       "<Figure size 432x288 with 1 Axes>"
      ]
     },
     "metadata": {
      "needs_background": "light"
     },
     "output_type": "display_data"
    },
    {
     "data": {
      "image/png": "[encoded data removed]",
      "text/plain": [
       "<Figure size 432x288 with 1 Axes>"
      ]
     },
     "metadata": {
      "needs_background": "light"
     },
     "output_type": "display_data"
    },
    {
     "data": {
      "image/png": "[encoded data removed]",
      "text/plain": [
       "<Figure size 432x288 with 1 Axes>"
      ]
     },
     "metadata": {
      "needs_background": "light"
     },
     "output_type": "display_data"
    },
    {
     "data": {
      "image/png": "[encoded data removed]",
      "text/plain": [
       "<Figure size 432x288 with 1 Axes>"
      ]
     },
     "metadata": {
      "needs_background": "light"
     },
     "output_type": "display_data"
    },
    {
     "data": {
      "image/png": "[encoded data removed]",
      "text/plain": [
       "<Figure size 432x288 with 1 Axes>"
      ]
     },
     "metadata": {
      "needs_background": "light"
     },
     "output_type": "display_data"
    },
    {
     "data": {
      "image/png": "[encoded data removed]",
      "text/plain": [
       "<Figure size 432x288 with 1 Axes>"
      ]
     },
     "metadata": {
      "needs_background": "light"
     },
     "output_type": "display_data"
    },
    {
     "data": {
      "image/png": "[encoded data removed]",
      "text/plain": [
       "<Figure size 432x288 with 1 Axes>"
      ]
     },
     "metadata": {
      "needs_background": "light"
     },
     "output_type": "display_data"
    },
    {
     "data": {
      "image/png": "[encoded data removed]",
      "text/plain": [
       "<Figure size 432x288 with 1 Axes>"
      ]
     },
     "metadata": {
      "needs_background": "light"
     },
     "output_type": "display_data"
    },
    {
     "data": {
      "image/png": "[encoded data removed]",
      "text/plain": [
       "<Figure size 432x288 with 1 Axes>"
      ]
     },
     "metadata": {
      "needs_background": "light"
     },
     "output_type": "display_data"
    },
    {
     "data": {
      "image/png": "[encoded data removed]",
      "text/plain": [
       "<Figure size 432x288 with 1 Axes>"
      ]
     },
     "metadata": {
      "needs_background": "light"
     },
     "output_type": "display_data"
    },
    {
     "data": {
      "image/png": "[encoded data removed]",
      "text/plain": [
       "<Figure size 432x288 with 1 Axes>"
      ]
     },
     "metadata": {
      "needs_background": "light"
     },
     "output_type": "display_data"
    },
    {
     "data": {
      "image/png": "[encoded data removed]",
      "text/plain": [
       "<Figure size 432x288 with 1 Axes>"
      ]
     },
     "metadata": {
      "needs_background": "light"
     },
     "output_type": "display_data"
    },
    {
     "data": {
      "image/png": "[encoded data removed]",
      "text/plain": [
       "<Figure size 432x288 with 1 Axes>"
      ]
     },
     "metadata": {
      "needs_background": "light"
     },
     "output_type": "display_data"
    },
    {
     "data": {
      "image/png": "[encoded data removed]",
      "text/plain": [
       "<Figure size 432x288 with 1 Axes>"
      ]
     },
     "metadata": {
      "needs_background": "light"
     },
     "output_type": "display_data"
    },
    {
     "data": {
      "image/png": "[encoded data removed]",
      "text/plain": [
       "<Figure size 432x288 with 1 Axes>"
      ]
     },
     "metadata": {
      "needs_background": "light"
     },
     "output_type": "display_data"
    },
    {
     "data": {
      "image/png": "[encoded data removed]",
      "text/plain": [
       "<Figure size 432x288 with 1 Axes>"
      ]
     },
     "metadata": {
      "needs_background": "light"
     },
     "output_type": "display_data"
    },
    {
     "data": {
      "image/png": "[encoded data removed]",
      "text/plain": [
       "<Figure size 432x288 with 1 Axes>"
      ]
     },
     "metadata": {
      "needs_background": "light"
     },
     "output_type": "display_data"
    },
    {
     "data": {
      "image/png": "[encoded data removed]",
      "text/plain": [
       "<Figure size 432x288 with 1 Axes>"
      ]
     },
     "metadata": {
      "needs_background": "light"
     },
     "output_type": "display_data"
    },
    {
     "data": {
      "image/png": "[encoded data removed]",
      "text/plain": [
       "<Figure size 432x288 with 1 Axes>"
      ]
     },
     "metadata": {
      "needs_background": "light"
     },
     "output_type": "display_data"
    },
    {
     "data": {
      "image/png": "[encoded data removed]",
      "text/plain": [
       "<Figure size 432x288 with 1 Axes>"
      ]
     },
     "metadata": {
      "needs_background": "light"
     },
     "output_type": "display_data"
    },
    {
     "data": {
      "image/png": "[encoded data removed]",
      "text/plain": [
       "<Figure size 432x288 with 1 Axes>"
      ]
     },
     "metadata": {
      "needs_background": "light"
     },
     "output_type": "display_data"
    },
    {
     "data": {
      "image/png": "[encoded data removed]",
      "text/plain": [
       "<Figure size 432x288 with 1 Axes>"
      ]
     },
     "metadata": {
      "needs_background": "light"
     },
     "output_type": "display_data"
    },
    {
     "data": {
      "image/png": "[encoded data removed]",
      "text/plain": [
       "<Figure size 432x288 with 1 Axes>"
      ]
     },
     "metadata": {
      "needs_background": "light"
     },
     "output_type": "display_data"
    },
    {
     "data": {
      "image/png": "[encoded data removed]",
      "text/plain": [
       "<Figure size 432x288 with 1 Axes>"
      ]
     },
     "metadata": {
      "needs_background": "light"
     },
     "output_type": "display_data"
    },
    {
     "data": {
      "image/png": "[encoded data removed]",
      "text/plain": [
       "<Figure size 432x288 with 1 Axes>"
      ]
     },
     "metadata": {
      "needs_background": "light"
     },
     "output_type": "display_data"
    },
    {
     "data": {
      "image/png": "[encoded data removed]",
      "text/plain": [
       "<Figure size 432x288 with 1 Axes>"
      ]
     },
     "metadata": {
      "needs_background": "light"
     },
     "output_type": "display_data"
    },
    {
     "data": {
      "image/png": "[encoded data removed]",
      "text/plain": [
       "<Figure size 432x288 with 1 Axes>"
      ]
     },
     "metadata": {
      "needs_background": "light"
     },
     "output_type": "display_data"
    },
    {
     "data": {
      "image/png": "[encoded data removed]",
      "text/plain": [
       "<Figure size 432x288 with 1 Axes>"
      ]
     },
     "metadata": {
      "needs_background": "light"
     },
     "output_type": "display_data"
    },
    {
     "data": {
      "image/png": "[encoded data removed]",
      "text/plain": [
       "<Figure size 432x288 with 1 Axes>"
      ]
     },
     "metadata": {
      "needs_background": "light"
     },
     "output_type": "display_data"
    },
    {
     "data": {
      "image/png": "[encoded data removed]",
      "text/plain": [
       "<Figure size 432x288 with 1 Axes>"
      ]
     },
     "metadata": {
      "needs_background": "light"
     },
     "output_type": "display_data"
    },
    {
     "data": {
      "image/png": "[encoded data removed]",
      "text/plain": [
       "<Figure size 432x288 with 1 Axes>"
      ]
     },
     "metadata": {
      "needs_background": "light"
     },
     "output_type": "display_data"
    },
    {
     "data": {
      "image/png": "[encoded data removed]",
      "text/plain": [
       "<Figure size 432x288 with 1 Axes>"
      ]
     },
     "metadata": {
      "needs_background": "light"
     },
     "output_type": "display_data"
    },
    {
     "data": {
      "image/png": "[encoded data removed]",
      "text/plain": [
       "<Figure size 432x288 with 1 Axes>"
      ]
     },
     "metadata": {
      "needs_background": "light"
     },
     "output_type": "display_data"
    },
    {
     "data": {
      "image/png": "[encoded data removed]",
      "text/plain": [
       "<Figure size 432x288 with 1 Axes>"
      ]
     },
     "metadata": {
      "needs_background": "light"
     },
     "output_type": "display_data"
    },
    {
     "data": {
      "image/png": "[encoded data removed]",
      "text/plain": [
       "<Figure size 432x288 with 1 Axes>"
      ]
     },
     "metadata": {
      "needs_background": "light"
     },
     "output_type": "display_data"
    },
    {
     "data": {
      "image/png": "[encoded data removed]",
      "text/plain": [
       "<Figure size 432x288 with 1 Axes>"
      ]
     },
     "metadata": {
      "needs_background": "light"
     },
     "output_type": "display_data"
    },
    {
     "data": {
      "image/png": "[encoded data removed]",
      "text/plain": [
       "<Figure size 432x288 with 1 Axes>"
      ]
     },
     "metadata": {
      "needs_background": "light"
     },
     "output_type": "display_data"
    },
    {
     "data": {
      "image/png": "[encoded data removed]",
      "text/plain": [
       "<Figure size 432x288 with 1 Axes>"
      ]
     },
     "metadata": {
      "needs_background": "light"
     },
     "output_type": "display_data"
    }
   ],
   "source": [
    "for x in zillow_df.select_dtypes(include = 'float64'):\n",
    "    sns.histplot(data = zillow_df[x])\n",
    "    plt.show()"
   ]
  },
  {
   "cell_type": "code",
   "execution_count": 8,
   "metadata": {},
   "outputs": [],
   "source": [
    "zillow_df = wr.drop_nulls(zillow_df, prop_req_col = .85, prop_req_row = .65)"
   ]
  },
  {
   "cell_type": "code",
   "execution_count": 9,
   "metadata": {},
   "outputs": [
    {
     "data": {
      "text/html": [
       "<div>\n",
       "<style scoped>\n",
       "    .dataframe tbody tr th:only-of-type {\n",
       "        vertical-align: middle;\n",
       "    }\n",
       "\n",
       "    .dataframe tbody tr th {\n",
       "        vertical-align: top;\n",
       "    }\n",
       "\n",
       "    .dataframe thead th {\n",
       "        text-align: right;\n",
       "    }\n",
       "</style>\n",
       "<table border=\"1\" class=\"dataframe\">\n",
       "  <thead>\n",
       "    <tr style=\"text-align: right;\">\n",
       "      <th></th>\n",
       "      <th>0</th>\n",
       "    </tr>\n",
       "  </thead>\n",
       "  <tbody>\n",
       "    <tr>\n",
       "      <th>0</th>\n",
       "      <td>Unnamed: 0</td>\n",
       "    </tr>\n",
       "    <tr>\n",
       "      <th>1</th>\n",
       "      <td>id</td>\n",
       "    </tr>\n",
       "    <tr>\n",
       "      <th>2</th>\n",
       "      <td>parcelid</td>\n",
       "    </tr>\n",
       "    <tr>\n",
       "      <th>3</th>\n",
       "      <td>bathroomcnt</td>\n",
       "    </tr>\n",
       "    <tr>\n",
       "      <th>4</th>\n",
       "      <td>bedroomcnt</td>\n",
       "    </tr>\n",
       "    <tr>\n",
       "      <th>5</th>\n",
       "      <td>calculatedbathnbr</td>\n",
       "    </tr>\n",
       "    <tr>\n",
       "      <th>6</th>\n",
       "      <td>calculatedfinishedsquarefeet</td>\n",
       "    </tr>\n",
       "    <tr>\n",
       "      <th>7</th>\n",
       "      <td>finishedsquarefeet12</td>\n",
       "    </tr>\n",
       "    <tr>\n",
       "      <th>8</th>\n",
       "      <td>fips</td>\n",
       "    </tr>\n",
       "    <tr>\n",
       "      <th>9</th>\n",
       "      <td>fullbathcnt</td>\n",
       "    </tr>\n",
       "    <tr>\n",
       "      <th>10</th>\n",
       "      <td>latitude</td>\n",
       "    </tr>\n",
       "    <tr>\n",
       "      <th>11</th>\n",
       "      <td>longitude</td>\n",
       "    </tr>\n",
       "    <tr>\n",
       "      <th>12</th>\n",
       "      <td>lotsizesquarefeet</td>\n",
       "    </tr>\n",
       "    <tr>\n",
       "      <th>13</th>\n",
       "      <td>propertycountylandusecode</td>\n",
       "    </tr>\n",
       "    <tr>\n",
       "      <th>14</th>\n",
       "      <td>propertylandusetypeid</td>\n",
       "    </tr>\n",
       "    <tr>\n",
       "      <th>15</th>\n",
       "      <td>rawcensustractandblock</td>\n",
       "    </tr>\n",
       "    <tr>\n",
       "      <th>16</th>\n",
       "      <td>regionidcity</td>\n",
       "    </tr>\n",
       "    <tr>\n",
       "      <th>17</th>\n",
       "      <td>regionidcounty</td>\n",
       "    </tr>\n",
       "    <tr>\n",
       "      <th>18</th>\n",
       "      <td>regionidzip</td>\n",
       "    </tr>\n",
       "    <tr>\n",
       "      <th>19</th>\n",
       "      <td>roomcnt</td>\n",
       "    </tr>\n",
       "    <tr>\n",
       "      <th>20</th>\n",
       "      <td>yearbuilt</td>\n",
       "    </tr>\n",
       "    <tr>\n",
       "      <th>21</th>\n",
       "      <td>structuretaxvaluedollarcnt</td>\n",
       "    </tr>\n",
       "    <tr>\n",
       "      <th>22</th>\n",
       "      <td>taxvaluedollarcnt</td>\n",
       "    </tr>\n",
       "    <tr>\n",
       "      <th>23</th>\n",
       "      <td>assessmentyear</td>\n",
       "    </tr>\n",
       "    <tr>\n",
       "      <th>24</th>\n",
       "      <td>landtaxvaluedollarcnt</td>\n",
       "    </tr>\n",
       "    <tr>\n",
       "      <th>25</th>\n",
       "      <td>taxamount</td>\n",
       "    </tr>\n",
       "    <tr>\n",
       "      <th>26</th>\n",
       "      <td>censustractandblock</td>\n",
       "    </tr>\n",
       "    <tr>\n",
       "      <th>27</th>\n",
       "      <td>logerror</td>\n",
       "    </tr>\n",
       "    <tr>\n",
       "      <th>28</th>\n",
       "      <td>transactiondate</td>\n",
       "    </tr>\n",
       "    <tr>\n",
       "      <th>29</th>\n",
       "      <td>propertylandusedesc</td>\n",
       "    </tr>\n",
       "  </tbody>\n",
       "</table>\n",
       "</div>"
      ],
      "text/plain": [
       "                               0\n",
       "0                     Unnamed: 0\n",
       "1                             id\n",
       "2                       parcelid\n",
       "3                    bathroomcnt\n",
       "4                     bedroomcnt\n",
       "5              calculatedbathnbr\n",
       "6   calculatedfinishedsquarefeet\n",
       "7           finishedsquarefeet12\n",
       "8                           fips\n",
       "9                    fullbathcnt\n",
       "10                      latitude\n",
       "11                     longitude\n",
       "12             lotsizesquarefeet\n",
       "13     propertycountylandusecode\n",
       "14         propertylandusetypeid\n",
       "15        rawcensustractandblock\n",
       "16                  regionidcity\n",
       "17                regionidcounty\n",
       "18                   regionidzip\n",
       "19                       roomcnt\n",
       "20                     yearbuilt\n",
       "21    structuretaxvaluedollarcnt\n",
       "22             taxvaluedollarcnt\n",
       "23                assessmentyear\n",
       "24         landtaxvaluedollarcnt\n",
       "25                     taxamount\n",
       "26           censustractandblock\n",
       "27                      logerror\n",
       "28               transactiondate\n",
       "29           propertylandusedesc"
      ]
     },
     "execution_count": 9,
     "metadata": {},
     "output_type": "execute_result"
    }
   ],
   "source": [
    "pd.DataFrame(zillow_df.columns)"
   ]
  },
  {
   "cell_type": "code",
   "execution_count": 10,
   "metadata": {},
   "outputs": [],
   "source": [
    "zillow_df = zillow_df.drop(columns = ['finishedsquarefeet12','structuretaxvaluedollarcnt','censustractandblock','rawcensustractandblock'])"
   ]
  },
  {
   "cell_type": "code",
   "execution_count": 11,
   "metadata": {},
   "outputs": [
    {
     "data": {
      "text/plain": [
       "Unnamed: 0                        int64\n",
       "id                                int64\n",
       "parcelid                          int64\n",
       "bathroomcnt                     float64\n",
       "bedroomcnt                      float64\n",
       "calculatedbathnbr               float64\n",
       "calculatedfinishedsquarefeet    float64\n",
       "fips                            float64\n",
       "fullbathcnt                     float64\n",
       "latitude                        float64\n",
       "longitude                       float64\n",
       "lotsizesquarefeet               float64\n",
       "propertycountylandusecode        object\n",
       "propertylandusetypeid           float64\n",
       "regionidcity                    float64\n",
       "regionidcounty                  float64\n",
       "regionidzip                     float64\n",
       "roomcnt                         float64\n",
       "yearbuilt                       float64\n",
       "taxvaluedollarcnt               float64\n",
       "assessmentyear                  float64\n",
       "landtaxvaluedollarcnt           float64\n",
       "taxamount                       float64\n",
       "logerror                        float64\n",
       "transactiondate                  object\n",
       "propertylandusedesc              object\n",
       "dtype: object"
      ]
     },
     "execution_count": 11,
     "metadata": {},
     "output_type": "execute_result"
    }
   ],
   "source": [
    "zillow_df.dtypes"
   ]
  },
  {
   "cell_type": "code",
   "execution_count": 12,
   "metadata": {},
   "outputs": [
    {
     "data": {
      "text/html": [
       "<div>\n",
       "<style scoped>\n",
       "    .dataframe tbody tr th:only-of-type {\n",
       "        vertical-align: middle;\n",
       "    }\n",
       "\n",
       "    .dataframe tbody tr th {\n",
       "        vertical-align: top;\n",
       "    }\n",
       "\n",
       "    .dataframe thead th {\n",
       "        text-align: right;\n",
       "    }\n",
       "</style>\n",
       "<table border=\"1\" class=\"dataframe\">\n",
       "  <thead>\n",
       "    <tr style=\"text-align: right;\">\n",
       "      <th></th>\n",
       "      <th>propertylandusetypeid</th>\n",
       "      <th>propertylandusedesc</th>\n",
       "    </tr>\n",
       "  </thead>\n",
       "  <tbody>\n",
       "    <tr>\n",
       "      <th>0</th>\n",
       "      <td>261.0</td>\n",
       "      <td>Single Family Residential</td>\n",
       "    </tr>\n",
       "    <tr>\n",
       "      <th>1</th>\n",
       "      <td>261.0</td>\n",
       "      <td>Single Family Residential</td>\n",
       "    </tr>\n",
       "    <tr>\n",
       "      <th>2</th>\n",
       "      <td>261.0</td>\n",
       "      <td>Single Family Residential</td>\n",
       "    </tr>\n",
       "    <tr>\n",
       "      <th>3</th>\n",
       "      <td>261.0</td>\n",
       "      <td>Single Family Residential</td>\n",
       "    </tr>\n",
       "    <tr>\n",
       "      <th>4</th>\n",
       "      <td>266.0</td>\n",
       "      <td>Condominium</td>\n",
       "    </tr>\n",
       "    <tr>\n",
       "      <th>...</th>\n",
       "      <td>...</td>\n",
       "      <td>...</td>\n",
       "    </tr>\n",
       "    <tr>\n",
       "      <th>77569</th>\n",
       "      <td>266.0</td>\n",
       "      <td>Condominium</td>\n",
       "    </tr>\n",
       "    <tr>\n",
       "      <th>77570</th>\n",
       "      <td>261.0</td>\n",
       "      <td>Single Family Residential</td>\n",
       "    </tr>\n",
       "    <tr>\n",
       "      <th>77571</th>\n",
       "      <td>261.0</td>\n",
       "      <td>Single Family Residential</td>\n",
       "    </tr>\n",
       "    <tr>\n",
       "      <th>77572</th>\n",
       "      <td>261.0</td>\n",
       "      <td>Single Family Residential</td>\n",
       "    </tr>\n",
       "    <tr>\n",
       "      <th>77573</th>\n",
       "      <td>261.0</td>\n",
       "      <td>Single Family Residential</td>\n",
       "    </tr>\n",
       "  </tbody>\n",
       "</table>\n",
       "<p>77574 rows × 2 columns</p>\n",
       "</div>"
      ],
      "text/plain": [
       "       propertylandusetypeid        propertylandusedesc\n",
       "0                      261.0  Single Family Residential\n",
       "1                      261.0  Single Family Residential\n",
       "2                      261.0  Single Family Residential\n",
       "3                      261.0  Single Family Residential\n",
       "4                      266.0                Condominium\n",
       "...                      ...                        ...\n",
       "77569                  266.0                Condominium\n",
       "77570                  261.0  Single Family Residential\n",
       "77571                  261.0  Single Family Residential\n",
       "77572                  261.0  Single Family Residential\n",
       "77573                  261.0  Single Family Residential\n",
       "\n",
       "[77574 rows x 2 columns]"
      ]
     },
     "execution_count": 12,
     "metadata": {},
     "output_type": "execute_result"
    }
   ],
   "source": [
    "zillow_df[['propertylandusetypeid','propertylandusedesc']]"
   ]
  },
  {
   "cell_type": "code",
   "execution_count": 13,
   "metadata": {},
   "outputs": [
    {
     "data": {
      "text/plain": [
       "array(['Single Family Residential', 'Condominium',\n",
       "       'Duplex (2 Units, Any Combination)', 'Residential General',\n",
       "       'Planned Unit Development', 'Triplex (3 Units, Any Combination)',\n",
       "       'Quadruplex (4 Units, Any Combination)', 'Cluster Home',\n",
       "       'Commercial/Office/Residential Mixed Used', 'Cooperative',\n",
       "       'Manufactured, Modular, Prefabricated Homes', 'Mobile Home',\n",
       "       'Townhouse'], dtype=object)"
      ]
     },
     "execution_count": 13,
     "metadata": {},
     "output_type": "execute_result"
    }
   ],
   "source": [
    "zillow_df.propertylandusedesc.unique()"
   ]
  },
  {
   "cell_type": "code",
   "execution_count": 14,
   "metadata": {},
   "outputs": [],
   "source": [
    "single_list = ['Single Family Residential','Manufactured, Modular, Prefabricated Homes','Mobile Home']"
   ]
  },
  {
   "cell_type": "code",
   "execution_count": 15,
   "metadata": {},
   "outputs": [],
   "source": [
    "zillow_df = zillow_df[zillow_df['propertylandusedesc'].isin(single_list)]"
   ]
  },
  {
   "cell_type": "code",
   "execution_count": 16,
   "metadata": {},
   "outputs": [
    {
     "data": {
      "text/plain": [
       "(52452,)"
      ]
     },
     "execution_count": 16,
     "metadata": {},
     "output_type": "execute_result"
    }
   ],
   "source": [
    "zillow_df.parcelid.unique().shape"
   ]
  },
  {
   "cell_type": "code",
   "execution_count": 17,
   "metadata": {},
   "outputs": [
    {
     "data": {
      "text/plain": [
       "(52571, 26)"
      ]
     },
     "execution_count": 17,
     "metadata": {},
     "output_type": "execute_result"
    }
   ],
   "source": [
    "zillow_df.shape"
   ]
  },
  {
   "cell_type": "code",
   "execution_count": 18,
   "metadata": {},
   "outputs": [],
   "source": [
    "zillow_df.drop_duplicates(subset = 'parcelid', inplace = True)"
   ]
  },
  {
   "cell_type": "code",
   "execution_count": 19,
   "metadata": {},
   "outputs": [
    {
     "data": {
      "text/plain": [
       "(52452, 26)"
      ]
     },
     "execution_count": 19,
     "metadata": {},
     "output_type": "execute_result"
    }
   ],
   "source": [
    "zillow_df.shape"
   ]
  },
  {
   "cell_type": "code",
   "execution_count": 20,
   "metadata": {},
   "outputs": [
    {
     "data": {
      "text/plain": [
       "(52452,)"
      ]
     },
     "execution_count": 20,
     "metadata": {},
     "output_type": "execute_result"
    }
   ],
   "source": [
    "zillow_df.id.unique().shape"
   ]
  },
  {
   "cell_type": "code",
   "execution_count": 21,
   "metadata": {},
   "outputs": [
    {
     "data": {
      "text/plain": [
       "Index(['Unnamed: 0', 'id', 'parcelid', 'bathroomcnt', 'bedroomcnt',\n",
       "       'calculatedbathnbr', 'calculatedfinishedsquarefeet', 'fips',\n",
       "       'fullbathcnt', 'latitude', 'longitude', 'lotsizesquarefeet',\n",
       "       'propertycountylandusecode', 'propertylandusetypeid', 'regionidcity',\n",
       "       'regionidcounty', 'regionidzip', 'roomcnt', 'yearbuilt',\n",
       "       'taxvaluedollarcnt', 'assessmentyear', 'landtaxvaluedollarcnt',\n",
       "       'taxamount', 'logerror', 'transactiondate', 'propertylandusedesc'],\n",
       "      dtype='object')"
      ]
     },
     "execution_count": 21,
     "metadata": {},
     "output_type": "execute_result"
    }
   ],
   "source": [
    "zillow_df.columns"
   ]
  },
  {
   "cell_type": "code",
   "execution_count": 22,
   "metadata": {},
   "outputs": [],
   "source": [
    "zillow_num = zillow_df[['bathroomcnt','bedroomcnt','lotsizesquarefeet','taxvaluedollarcnt','taxamount']]"
   ]
  },
  {
   "cell_type": "code",
   "execution_count": 23,
   "metadata": {},
   "outputs": [
    {
     "data": {
      "image/png": "[encoded data removed]",
      "text/plain": [
       "<Figure size 432x288 with 1 Axes>"
      ]
     },
     "metadata": {
      "needs_background": "light"
     },
     "output_type": "display_data"
    },
    {
     "data": {
      "image/png": "[encoded data removed]",
      "text/plain": [
       "<Figure size 432x288 with 1 Axes>"
      ]
     },
     "metadata": {
      "needs_background": "light"
     },
     "output_type": "display_data"
    },
    {
     "data": {
      "image/png": "[encoded data removed]",
      "text/plain": [
       "<Figure size 432x288 with 1 Axes>"
      ]
     },
     "metadata": {
      "needs_background": "light"
     },
     "output_type": "display_data"
    },
    {
     "data": {
      "image/png": "[encoded data removed]",
      "text/plain": [
       "<Figure size 432x288 with 1 Axes>"
      ]
     },
     "metadata": {
      "needs_background": "light"
     },
     "output_type": "display_data"
    },
    {
     "data": {
      "image/png": "[encoded data removed]",
      "text/plain": [
       "<Figure size 432x288 with 1 Axes>"
      ]
     },
     "metadata": {
      "needs_background": "light"
     },
     "output_type": "display_data"
    }
   ],
   "source": [
    "for x in zillow_num:\n",
    "    sns.boxplot(data =  zillow_num[x])\n",
    "    plt.show()"
   ]
  },
  {
   "cell_type": "code",
   "execution_count": 24,
   "metadata": {},
   "outputs": [],
   "source": [
    "zillow_num = wr.remove_outliers(zillow_num,k = 1.5, col_list = ['bathroomcnt','bedroomcnt','lotsizesquarefeet','taxvaluedollarcnt','taxamount'])"
   ]
  },
  {
   "cell_type": "code",
   "execution_count": 25,
   "metadata": {},
   "outputs": [
    {
     "data": {
      "text/html": [
       "<div>\n",
       "<style scoped>\n",
       "    .dataframe tbody tr th:only-of-type {\n",
       "        vertical-align: middle;\n",
       "    }\n",
       "\n",
       "    .dataframe tbody tr th {\n",
       "        vertical-align: top;\n",
       "    }\n",
       "\n",
       "    .dataframe thead th {\n",
       "        text-align: right;\n",
       "    }\n",
       "</style>\n",
       "<table border=\"1\" class=\"dataframe\">\n",
       "  <thead>\n",
       "    <tr style=\"text-align: right;\">\n",
       "      <th></th>\n",
       "      <th>bathroomcnt</th>\n",
       "      <th>bedroomcnt</th>\n",
       "      <th>lotsizesquarefeet</th>\n",
       "      <th>taxvaluedollarcnt</th>\n",
       "      <th>taxamount</th>\n",
       "    </tr>\n",
       "  </thead>\n",
       "  <tbody>\n",
       "    <tr>\n",
       "      <th>0</th>\n",
       "      <td>3.5</td>\n",
       "      <td>4.0</td>\n",
       "      <td>4506.0</td>\n",
       "      <td>1023282.0</td>\n",
       "      <td>11013.72</td>\n",
       "    </tr>\n",
       "    <tr>\n",
       "      <th>1</th>\n",
       "      <td>1.0</td>\n",
       "      <td>2.0</td>\n",
       "      <td>12647.0</td>\n",
       "      <td>464000.0</td>\n",
       "      <td>5672.48</td>\n",
       "    </tr>\n",
       "    <tr>\n",
       "      <th>2</th>\n",
       "      <td>2.0</td>\n",
       "      <td>3.0</td>\n",
       "      <td>8432.0</td>\n",
       "      <td>564778.0</td>\n",
       "      <td>6488.30</td>\n",
       "    </tr>\n",
       "    <tr>\n",
       "      <th>7</th>\n",
       "      <td>1.0</td>\n",
       "      <td>2.0</td>\n",
       "      <td>4214.0</td>\n",
       "      <td>218552.0</td>\n",
       "      <td>2366.08</td>\n",
       "    </tr>\n",
       "    <tr>\n",
       "      <th>10</th>\n",
       "      <td>3.0</td>\n",
       "      <td>4.0</td>\n",
       "      <td>10384.0</td>\n",
       "      <td>430108.0</td>\n",
       "      <td>6103.36</td>\n",
       "    </tr>\n",
       "    <tr>\n",
       "      <th>...</th>\n",
       "      <td>...</td>\n",
       "      <td>...</td>\n",
       "      <td>...</td>\n",
       "      <td>...</td>\n",
       "      <td>...</td>\n",
       "    </tr>\n",
       "    <tr>\n",
       "      <th>77567</th>\n",
       "      <td>2.0</td>\n",
       "      <td>3.0</td>\n",
       "      <td>7499.0</td>\n",
       "      <td>72026.0</td>\n",
       "      <td>1000.70</td>\n",
       "    </tr>\n",
       "    <tr>\n",
       "      <th>77568</th>\n",
       "      <td>2.0</td>\n",
       "      <td>4.0</td>\n",
       "      <td>4630.0</td>\n",
       "      <td>346534.0</td>\n",
       "      <td>4175.08</td>\n",
       "    </tr>\n",
       "    <tr>\n",
       "      <th>77571</th>\n",
       "      <td>2.0</td>\n",
       "      <td>4.0</td>\n",
       "      <td>12105.0</td>\n",
       "      <td>67205.0</td>\n",
       "      <td>1107.48</td>\n",
       "    </tr>\n",
       "    <tr>\n",
       "      <th>77572</th>\n",
       "      <td>1.0</td>\n",
       "      <td>3.0</td>\n",
       "      <td>5074.0</td>\n",
       "      <td>49546.0</td>\n",
       "      <td>876.43</td>\n",
       "    </tr>\n",
       "    <tr>\n",
       "      <th>77573</th>\n",
       "      <td>2.0</td>\n",
       "      <td>3.0</td>\n",
       "      <td>6347.0</td>\n",
       "      <td>522000.0</td>\n",
       "      <td>6317.15</td>\n",
       "    </tr>\n",
       "  </tbody>\n",
       "</table>\n",
       "<p>41057 rows × 5 columns</p>\n",
       "</div>"
      ],
      "text/plain": [
       "       bathroomcnt  bedroomcnt  lotsizesquarefeet  taxvaluedollarcnt  \\\n",
       "0              3.5         4.0             4506.0          1023282.0   \n",
       "1              1.0         2.0            12647.0           464000.0   \n",
       "2              2.0         3.0             8432.0           564778.0   \n",
       "7              1.0         2.0             4214.0           218552.0   \n",
       "10             3.0         4.0            10384.0           430108.0   \n",
       "...            ...         ...                ...                ...   \n",
       "77567          2.0         3.0             7499.0            72026.0   \n",
       "77568          2.0         4.0             4630.0           346534.0   \n",
       "77571          2.0         4.0            12105.0            67205.0   \n",
       "77572          1.0         3.0             5074.0            49546.0   \n",
       "77573          2.0         3.0             6347.0           522000.0   \n",
       "\n",
       "       taxamount  \n",
       "0       11013.72  \n",
       "1        5672.48  \n",
       "2        6488.30  \n",
       "7        2366.08  \n",
       "10       6103.36  \n",
       "...          ...  \n",
       "77567    1000.70  \n",
       "77568    4175.08  \n",
       "77571    1107.48  \n",
       "77572     876.43  \n",
       "77573    6317.15  \n",
       "\n",
       "[41057 rows x 5 columns]"
      ]
     },
     "execution_count": 25,
     "metadata": {},
     "output_type": "execute_result"
    }
   ],
   "source": [
    "zillow_num"
   ]
  },
  {
   "cell_type": "code",
   "execution_count": 26,
   "metadata": {},
   "outputs": [
    {
     "data": {
      "image/png": "[encoded data removed]",
      "text/plain": [
       "<Figure size 432x288 with 1 Axes>"
      ]
     },
     "metadata": {
      "needs_background": "light"
     },
     "output_type": "display_data"
    },
    {
     "data": {
      "image/png": "[encoded data removed]",
      "text/plain": [
       "<Figure size 432x288 with 1 Axes>"
      ]
     },
     "metadata": {
      "needs_background": "light"
     },
     "output_type": "display_data"
    },
    {
     "data": {
      "image/png": "[encoded data removed]",
      "text/plain": [
       "<Figure size 432x288 with 1 Axes>"
      ]
     },
     "metadata": {
      "needs_background": "light"
     },
     "output_type": "display_data"
    },
    {
     "data": {
      "image/png": "[encoded data removed]",
      "text/plain": [
       "<Figure size 432x288 with 1 Axes>"
      ]
     },
     "metadata": {
      "needs_background": "light"
     },
     "output_type": "display_data"
    },
    {
     "data": {
      "image/png": "[encoded data removed]",
      "text/plain": [
       "<Figure size 432x288 with 1 Axes>"
      ]
     },
     "metadata": {
      "needs_background": "light"
     },
     "output_type": "display_data"
    }
   ],
   "source": [
    "for x in zillow_num:\n",
    "    sns.boxplot(data =  zillow_num[x])\n",
    "    plt.show()"
   ]
  },
  {
   "cell_type": "code",
   "execution_count": 27,
   "metadata": {},
   "outputs": [],
   "source": [
    "zillow_df = wr.remove_outliers(zillow_df, k = 1.5, col_list = ['bathroomcnt','bedroomcnt','lotsizesquarefeet','taxvaluedollarcnt','taxamount'] )"
   ]
  },
  {
   "cell_type": "code",
   "execution_count": 28,
   "metadata": {},
   "outputs": [
    {
     "data": {
      "text/html": [
       "<div>\n",
       "<style scoped>\n",
       "    .dataframe tbody tr th:only-of-type {\n",
       "        vertical-align: middle;\n",
       "    }\n",
       "\n",
       "    .dataframe tbody tr th {\n",
       "        vertical-align: top;\n",
       "    }\n",
       "\n",
       "    .dataframe thead th {\n",
       "        text-align: right;\n",
       "    }\n",
       "</style>\n",
       "<table border=\"1\" class=\"dataframe\">\n",
       "  <thead>\n",
       "    <tr style=\"text-align: right;\">\n",
       "      <th></th>\n",
       "      <th>Unnamed: 0</th>\n",
       "      <th>id</th>\n",
       "      <th>parcelid</th>\n",
       "      <th>bathroomcnt</th>\n",
       "      <th>bedroomcnt</th>\n",
       "      <th>calculatedbathnbr</th>\n",
       "      <th>calculatedfinishedsquarefeet</th>\n",
       "      <th>fips</th>\n",
       "      <th>fullbathcnt</th>\n",
       "      <th>latitude</th>\n",
       "      <th>...</th>\n",
       "      <th>regionidzip</th>\n",
       "      <th>roomcnt</th>\n",
       "      <th>yearbuilt</th>\n",
       "      <th>taxvaluedollarcnt</th>\n",
       "      <th>assessmentyear</th>\n",
       "      <th>landtaxvaluedollarcnt</th>\n",
       "      <th>taxamount</th>\n",
       "      <th>logerror</th>\n",
       "      <th>transactiondate</th>\n",
       "      <th>propertylandusedesc</th>\n",
       "    </tr>\n",
       "  </thead>\n",
       "  <tbody>\n",
       "    <tr>\n",
       "      <th>0</th>\n",
       "      <td>0</td>\n",
       "      <td>1727539</td>\n",
       "      <td>14297519</td>\n",
       "      <td>3.5</td>\n",
       "      <td>4.0</td>\n",
       "      <td>3.5</td>\n",
       "      <td>3100.0</td>\n",
       "      <td>6059.0</td>\n",
       "      <td>3.0</td>\n",
       "      <td>33634931.0</td>\n",
       "      <td>...</td>\n",
       "      <td>96978.0</td>\n",
       "      <td>0.0</td>\n",
       "      <td>1998.0</td>\n",
       "      <td>1023282.0</td>\n",
       "      <td>2016.0</td>\n",
       "      <td>537569.0</td>\n",
       "      <td>11013.72</td>\n",
       "      <td>0.025595</td>\n",
       "      <td>2017-01-01</td>\n",
       "      <td>Single Family Residential</td>\n",
       "    </tr>\n",
       "    <tr>\n",
       "      <th>1</th>\n",
       "      <td>1</td>\n",
       "      <td>1387261</td>\n",
       "      <td>17052889</td>\n",
       "      <td>1.0</td>\n",
       "      <td>2.0</td>\n",
       "      <td>1.0</td>\n",
       "      <td>1465.0</td>\n",
       "      <td>6111.0</td>\n",
       "      <td>1.0</td>\n",
       "      <td>34449266.0</td>\n",
       "      <td>...</td>\n",
       "      <td>97099.0</td>\n",
       "      <td>5.0</td>\n",
       "      <td>1967.0</td>\n",
       "      <td>464000.0</td>\n",
       "      <td>2016.0</td>\n",
       "      <td>376000.0</td>\n",
       "      <td>5672.48</td>\n",
       "      <td>0.055619</td>\n",
       "      <td>2017-01-01</td>\n",
       "      <td>Single Family Residential</td>\n",
       "    </tr>\n",
       "    <tr>\n",
       "      <th>2</th>\n",
       "      <td>2</td>\n",
       "      <td>11677</td>\n",
       "      <td>14186244</td>\n",
       "      <td>2.0</td>\n",
       "      <td>3.0</td>\n",
       "      <td>2.0</td>\n",
       "      <td>1243.0</td>\n",
       "      <td>6059.0</td>\n",
       "      <td>2.0</td>\n",
       "      <td>33886168.0</td>\n",
       "      <td>...</td>\n",
       "      <td>97078.0</td>\n",
       "      <td>6.0</td>\n",
       "      <td>1962.0</td>\n",
       "      <td>564778.0</td>\n",
       "      <td>2016.0</td>\n",
       "      <td>479489.0</td>\n",
       "      <td>6488.30</td>\n",
       "      <td>0.005383</td>\n",
       "      <td>2017-01-01</td>\n",
       "      <td>Single Family Residential</td>\n",
       "    </tr>\n",
       "    <tr>\n",
       "      <th>7</th>\n",
       "      <td>7</td>\n",
       "      <td>870991</td>\n",
       "      <td>12069064</td>\n",
       "      <td>1.0</td>\n",
       "      <td>2.0</td>\n",
       "      <td>1.0</td>\n",
       "      <td>738.0</td>\n",
       "      <td>6037.0</td>\n",
       "      <td>1.0</td>\n",
       "      <td>34149214.0</td>\n",
       "      <td>...</td>\n",
       "      <td>96325.0</td>\n",
       "      <td>0.0</td>\n",
       "      <td>1922.0</td>\n",
       "      <td>218552.0</td>\n",
       "      <td>2016.0</td>\n",
       "      <td>199662.0</td>\n",
       "      <td>2366.08</td>\n",
       "      <td>0.101723</td>\n",
       "      <td>2017-01-01</td>\n",
       "      <td>Single Family Residential</td>\n",
       "    </tr>\n",
       "    <tr>\n",
       "      <th>10</th>\n",
       "      <td>10</td>\n",
       "      <td>1639362</td>\n",
       "      <td>11104527</td>\n",
       "      <td>3.0</td>\n",
       "      <td>4.0</td>\n",
       "      <td>3.0</td>\n",
       "      <td>2540.0</td>\n",
       "      <td>6037.0</td>\n",
       "      <td>3.0</td>\n",
       "      <td>34434971.0</td>\n",
       "      <td>...</td>\n",
       "      <td>96374.0</td>\n",
       "      <td>0.0</td>\n",
       "      <td>1999.0</td>\n",
       "      <td>430108.0</td>\n",
       "      <td>2016.0</td>\n",
       "      <td>158393.0</td>\n",
       "      <td>6103.36</td>\n",
       "      <td>0.005963</td>\n",
       "      <td>2017-01-02</td>\n",
       "      <td>Single Family Residential</td>\n",
       "    </tr>\n",
       "    <tr>\n",
       "      <th>...</th>\n",
       "      <td>...</td>\n",
       "      <td>...</td>\n",
       "      <td>...</td>\n",
       "      <td>...</td>\n",
       "      <td>...</td>\n",
       "      <td>...</td>\n",
       "      <td>...</td>\n",
       "      <td>...</td>\n",
       "      <td>...</td>\n",
       "      <td>...</td>\n",
       "      <td>...</td>\n",
       "      <td>...</td>\n",
       "      <td>...</td>\n",
       "      <td>...</td>\n",
       "      <td>...</td>\n",
       "      <td>...</td>\n",
       "      <td>...</td>\n",
       "      <td>...</td>\n",
       "      <td>...</td>\n",
       "      <td>...</td>\n",
       "      <td>...</td>\n",
       "    </tr>\n",
       "    <tr>\n",
       "      <th>77567</th>\n",
       "      <td>77567</td>\n",
       "      <td>1373391</td>\n",
       "      <td>10722691</td>\n",
       "      <td>2.0</td>\n",
       "      <td>3.0</td>\n",
       "      <td>2.0</td>\n",
       "      <td>1570.0</td>\n",
       "      <td>6037.0</td>\n",
       "      <td>2.0</td>\n",
       "      <td>34194943.0</td>\n",
       "      <td>...</td>\n",
       "      <td>96342.0</td>\n",
       "      <td>0.0</td>\n",
       "      <td>1958.0</td>\n",
       "      <td>72026.0</td>\n",
       "      <td>2016.0</td>\n",
       "      <td>25242.0</td>\n",
       "      <td>1000.70</td>\n",
       "      <td>0.081196</td>\n",
       "      <td>2017-09-19</td>\n",
       "      <td>Single Family Residential</td>\n",
       "    </tr>\n",
       "    <tr>\n",
       "      <th>77568</th>\n",
       "      <td>77568</td>\n",
       "      <td>2274245</td>\n",
       "      <td>12412492</td>\n",
       "      <td>2.0</td>\n",
       "      <td>4.0</td>\n",
       "      <td>2.0</td>\n",
       "      <td>1633.0</td>\n",
       "      <td>6037.0</td>\n",
       "      <td>2.0</td>\n",
       "      <td>33870815.0</td>\n",
       "      <td>...</td>\n",
       "      <td>96204.0</td>\n",
       "      <td>0.0</td>\n",
       "      <td>1962.0</td>\n",
       "      <td>346534.0</td>\n",
       "      <td>2016.0</td>\n",
       "      <td>221068.0</td>\n",
       "      <td>4175.08</td>\n",
       "      <td>0.001082</td>\n",
       "      <td>2017-09-19</td>\n",
       "      <td>Single Family Residential</td>\n",
       "    </tr>\n",
       "    <tr>\n",
       "      <th>77571</th>\n",
       "      <td>77571</td>\n",
       "      <td>2968375</td>\n",
       "      <td>17239384</td>\n",
       "      <td>2.0</td>\n",
       "      <td>4.0</td>\n",
       "      <td>2.0</td>\n",
       "      <td>1612.0</td>\n",
       "      <td>6111.0</td>\n",
       "      <td>2.0</td>\n",
       "      <td>34300140.0</td>\n",
       "      <td>...</td>\n",
       "      <td>97116.0</td>\n",
       "      <td>7.0</td>\n",
       "      <td>1964.0</td>\n",
       "      <td>67205.0</td>\n",
       "      <td>2016.0</td>\n",
       "      <td>16522.0</td>\n",
       "      <td>1107.48</td>\n",
       "      <td>0.013209</td>\n",
       "      <td>2017-09-21</td>\n",
       "      <td>Single Family Residential</td>\n",
       "    </tr>\n",
       "    <tr>\n",
       "      <th>77572</th>\n",
       "      <td>77572</td>\n",
       "      <td>1843709</td>\n",
       "      <td>12773139</td>\n",
       "      <td>1.0</td>\n",
       "      <td>3.0</td>\n",
       "      <td>1.0</td>\n",
       "      <td>1032.0</td>\n",
       "      <td>6037.0</td>\n",
       "      <td>1.0</td>\n",
       "      <td>34040895.0</td>\n",
       "      <td>...</td>\n",
       "      <td>96480.0</td>\n",
       "      <td>0.0</td>\n",
       "      <td>1954.0</td>\n",
       "      <td>49546.0</td>\n",
       "      <td>2016.0</td>\n",
       "      <td>16749.0</td>\n",
       "      <td>876.43</td>\n",
       "      <td>0.037129</td>\n",
       "      <td>2017-09-21</td>\n",
       "      <td>Single Family Residential</td>\n",
       "    </tr>\n",
       "    <tr>\n",
       "      <th>77573</th>\n",
       "      <td>77573</td>\n",
       "      <td>1187175</td>\n",
       "      <td>12826780</td>\n",
       "      <td>2.0</td>\n",
       "      <td>3.0</td>\n",
       "      <td>2.0</td>\n",
       "      <td>1762.0</td>\n",
       "      <td>6037.0</td>\n",
       "      <td>2.0</td>\n",
       "      <td>33937685.0</td>\n",
       "      <td>...</td>\n",
       "      <td>96171.0</td>\n",
       "      <td>0.0</td>\n",
       "      <td>1955.0</td>\n",
       "      <td>522000.0</td>\n",
       "      <td>2016.0</td>\n",
       "      <td>382000.0</td>\n",
       "      <td>6317.15</td>\n",
       "      <td>0.007204</td>\n",
       "      <td>2017-09-25</td>\n",
       "      <td>Single Family Residential</td>\n",
       "    </tr>\n",
       "  </tbody>\n",
       "</table>\n",
       "<p>41057 rows × 26 columns</p>\n",
       "</div>"
      ],
      "text/plain": [
       "       Unnamed: 0       id  parcelid  bathroomcnt  bedroomcnt  \\\n",
       "0               0  1727539  14297519          3.5         4.0   \n",
       "1               1  1387261  17052889          1.0         2.0   \n",
       "2               2    11677  14186244          2.0         3.0   \n",
       "7               7   870991  12069064          1.0         2.0   \n",
       "10             10  1639362  11104527          3.0         4.0   \n",
       "...           ...      ...       ...          ...         ...   \n",
       "77567       77567  1373391  10722691          2.0         3.0   \n",
       "77568       77568  2274245  12412492          2.0         4.0   \n",
       "77571       77571  2968375  17239384          2.0         4.0   \n",
       "77572       77572  1843709  12773139          1.0         3.0   \n",
       "77573       77573  1187175  12826780          2.0         3.0   \n",
       "\n",
       "       calculatedbathnbr  calculatedfinishedsquarefeet    fips  fullbathcnt  \\\n",
       "0                    3.5                        3100.0  6059.0          3.0   \n",
       "1                    1.0                        1465.0  6111.0          1.0   \n",
       "2                    2.0                        1243.0  6059.0          2.0   \n",
       "7                    1.0                         738.0  6037.0          1.0   \n",
       "10                   3.0                        2540.0  6037.0          3.0   \n",
       "...                  ...                           ...     ...          ...   \n",
       "77567                2.0                        1570.0  6037.0          2.0   \n",
       "77568                2.0                        1633.0  6037.0          2.0   \n",
       "77571                2.0                        1612.0  6111.0          2.0   \n",
       "77572                1.0                        1032.0  6037.0          1.0   \n",
       "77573                2.0                        1762.0  6037.0          2.0   \n",
       "\n",
       "         latitude  ...  regionidzip  roomcnt yearbuilt  taxvaluedollarcnt  \\\n",
       "0      33634931.0  ...      96978.0      0.0    1998.0          1023282.0   \n",
       "1      34449266.0  ...      97099.0      5.0    1967.0           464000.0   \n",
       "2      33886168.0  ...      97078.0      6.0    1962.0           564778.0   \n",
       "7      34149214.0  ...      96325.0      0.0    1922.0           218552.0   \n",
       "10     34434971.0  ...      96374.0      0.0    1999.0           430108.0   \n",
       "...           ...  ...          ...      ...       ...                ...   \n",
       "77567  34194943.0  ...      96342.0      0.0    1958.0            72026.0   \n",
       "77568  33870815.0  ...      96204.0      0.0    1962.0           346534.0   \n",
       "77571  34300140.0  ...      97116.0      7.0    1964.0            67205.0   \n",
       "77572  34040895.0  ...      96480.0      0.0    1954.0            49546.0   \n",
       "77573  33937685.0  ...      96171.0      0.0    1955.0           522000.0   \n",
       "\n",
       "       assessmentyear  landtaxvaluedollarcnt  taxamount  logerror  \\\n",
       "0              2016.0               537569.0   11013.72  0.025595   \n",
       "1              2016.0               376000.0    5672.48  0.055619   \n",
       "2              2016.0               479489.0    6488.30  0.005383   \n",
       "7              2016.0               199662.0    2366.08  0.101723   \n",
       "10             2016.0               158393.0    6103.36  0.005963   \n",
       "...               ...                    ...        ...       ...   \n",
       "77567          2016.0                25242.0    1000.70  0.081196   \n",
       "77568          2016.0               221068.0    4175.08  0.001082   \n",
       "77571          2016.0                16522.0    1107.48  0.013209   \n",
       "77572          2016.0                16749.0     876.43  0.037129   \n",
       "77573          2016.0               382000.0    6317.15  0.007204   \n",
       "\n",
       "       transactiondate        propertylandusedesc  \n",
       "0           2017-01-01  Single Family Residential  \n",
       "1           2017-01-01  Single Family Residential  \n",
       "2           2017-01-01  Single Family Residential  \n",
       "7           2017-01-01  Single Family Residential  \n",
       "10          2017-01-02  Single Family Residential  \n",
       "...                ...                        ...  \n",
       "77567       2017-09-19  Single Family Residential  \n",
       "77568       2017-09-19  Single Family Residential  \n",
       "77571       2017-09-21  Single Family Residential  \n",
       "77572       2017-09-21  Single Family Residential  \n",
       "77573       2017-09-25  Single Family Residential  \n",
       "\n",
       "[41057 rows x 26 columns]"
      ]
     },
     "execution_count": 28,
     "metadata": {},
     "output_type": "execute_result"
    }
   ],
   "source": [
    "zillow_df"
   ]
  },
  {
   "cell_type": "code",
   "execution_count": 29,
   "metadata": {},
   "outputs": [
    {
     "name": "stdout",
     "output_type": "stream",
     "text": [
      "Your selected dataframe has 26 columns.\n",
      "There are 6columns that have missing values.\n"
     ]
    },
    {
     "data": {
      "text/html": [
       "<div>\n",
       "<style scoped>\n",
       "    .dataframe tbody tr th:only-of-type {\n",
       "        vertical-align: middle;\n",
       "    }\n",
       "\n",
       "    .dataframe tbody tr th {\n",
       "        vertical-align: top;\n",
       "    }\n",
       "\n",
       "    .dataframe thead th {\n",
       "        text-align: right;\n",
       "    }\n",
       "</style>\n",
       "<table border=\"1\" class=\"dataframe\">\n",
       "  <thead>\n",
       "    <tr style=\"text-align: right;\">\n",
       "      <th></th>\n",
       "      <th>Missing Values</th>\n",
       "      <th>% of Total Values</th>\n",
       "    </tr>\n",
       "  </thead>\n",
       "  <tbody>\n",
       "    <tr>\n",
       "      <th>regionidcity</th>\n",
       "      <td>706</td>\n",
       "      <td>1.7</td>\n",
       "    </tr>\n",
       "    <tr>\n",
       "      <th>yearbuilt</th>\n",
       "      <td>16</td>\n",
       "      <td>0.0</td>\n",
       "    </tr>\n",
       "    <tr>\n",
       "      <th>calculatedbathnbr</th>\n",
       "      <td>8</td>\n",
       "      <td>0.0</td>\n",
       "    </tr>\n",
       "    <tr>\n",
       "      <th>fullbathcnt</th>\n",
       "      <td>8</td>\n",
       "      <td>0.0</td>\n",
       "    </tr>\n",
       "    <tr>\n",
       "      <th>regionidzip</th>\n",
       "      <td>7</td>\n",
       "      <td>0.0</td>\n",
       "    </tr>\n",
       "    <tr>\n",
       "      <th>calculatedfinishedsquarefeet</th>\n",
       "      <td>4</td>\n",
       "      <td>0.0</td>\n",
       "    </tr>\n",
       "  </tbody>\n",
       "</table>\n",
       "</div>"
      ],
      "text/plain": [
       "                              Missing Values  % of Total Values\n",
       "regionidcity                             706                1.7\n",
       "yearbuilt                                 16                0.0\n",
       "calculatedbathnbr                          8                0.0\n",
       "fullbathcnt                                8                0.0\n",
       "regionidzip                                7                0.0\n",
       "calculatedfinishedsquarefeet               4                0.0"
      ]
     },
     "execution_count": 29,
     "metadata": {},
     "output_type": "execute_result"
    }
   ],
   "source": [
    "wr.missing_values_table(zillow_df)"
   ]
  },
  {
   "cell_type": "markdown",
   "metadata": {},
   "source": [
    "Now that nulls are dropped, and outliers are cleaned, time to impute some values. I think at this point I could just delete regionidcity since I still have region id zip that I could technically use. I will impute the other values with the mean. "
   ]
  },
  {
   "cell_type": "code",
   "execution_count": 30,
   "metadata": {},
   "outputs": [],
   "source": [
    "def impute(df, strat, col_list):\n",
    "    ''' take in a df, strategy, and cloumn list\n",
    "        return df with listed columns imputed using input stratagy\n",
    "    '''\n",
    "        \n",
    "    imputer = SimpleImputer(strategy=strat)  # build imputer\n",
    "\n",
    "    df[col_list] = imputer.fit_transform(df[col_list]) # fit/transform selected column\n",
    "    return df"
   ]
  },
  {
   "cell_type": "code",
   "execution_count": 31,
   "metadata": {},
   "outputs": [
    {
     "data": {
      "text/html": [
       "<div>\n",
       "<style scoped>\n",
       "    .dataframe tbody tr th:only-of-type {\n",
       "        vertical-align: middle;\n",
       "    }\n",
       "\n",
       "    .dataframe tbody tr th {\n",
       "        vertical-align: top;\n",
       "    }\n",
       "\n",
       "    .dataframe thead th {\n",
       "        text-align: right;\n",
       "    }\n",
       "</style>\n",
       "<table border=\"1\" class=\"dataframe\">\n",
       "  <thead>\n",
       "    <tr style=\"text-align: right;\">\n",
       "      <th></th>\n",
       "      <th>Unnamed: 0</th>\n",
       "      <th>id</th>\n",
       "      <th>parcelid</th>\n",
       "      <th>bathroomcnt</th>\n",
       "      <th>bedroomcnt</th>\n",
       "      <th>calculatedbathnbr</th>\n",
       "      <th>calculatedfinishedsquarefeet</th>\n",
       "      <th>fips</th>\n",
       "      <th>fullbathcnt</th>\n",
       "      <th>latitude</th>\n",
       "      <th>...</th>\n",
       "      <th>regionidzip</th>\n",
       "      <th>roomcnt</th>\n",
       "      <th>yearbuilt</th>\n",
       "      <th>taxvaluedollarcnt</th>\n",
       "      <th>assessmentyear</th>\n",
       "      <th>landtaxvaluedollarcnt</th>\n",
       "      <th>taxamount</th>\n",
       "      <th>logerror</th>\n",
       "      <th>transactiondate</th>\n",
       "      <th>propertylandusedesc</th>\n",
       "    </tr>\n",
       "  </thead>\n",
       "  <tbody>\n",
       "    <tr>\n",
       "      <th>0</th>\n",
       "      <td>0</td>\n",
       "      <td>1727539</td>\n",
       "      <td>14297519</td>\n",
       "      <td>3.5</td>\n",
       "      <td>4.0</td>\n",
       "      <td>3.5</td>\n",
       "      <td>3100.0</td>\n",
       "      <td>6059.0</td>\n",
       "      <td>3.0</td>\n",
       "      <td>33634931.0</td>\n",
       "      <td>...</td>\n",
       "      <td>96978.0</td>\n",
       "      <td>0.0</td>\n",
       "      <td>1998.0</td>\n",
       "      <td>1023282.0</td>\n",
       "      <td>2016.0</td>\n",
       "      <td>537569.0</td>\n",
       "      <td>11013.72</td>\n",
       "      <td>0.025595</td>\n",
       "      <td>2017-01-01</td>\n",
       "      <td>Single Family Residential</td>\n",
       "    </tr>\n",
       "    <tr>\n",
       "      <th>1</th>\n",
       "      <td>1</td>\n",
       "      <td>1387261</td>\n",
       "      <td>17052889</td>\n",
       "      <td>1.0</td>\n",
       "      <td>2.0</td>\n",
       "      <td>1.0</td>\n",
       "      <td>1465.0</td>\n",
       "      <td>6111.0</td>\n",
       "      <td>1.0</td>\n",
       "      <td>34449266.0</td>\n",
       "      <td>...</td>\n",
       "      <td>97099.0</td>\n",
       "      <td>5.0</td>\n",
       "      <td>1967.0</td>\n",
       "      <td>464000.0</td>\n",
       "      <td>2016.0</td>\n",
       "      <td>376000.0</td>\n",
       "      <td>5672.48</td>\n",
       "      <td>0.055619</td>\n",
       "      <td>2017-01-01</td>\n",
       "      <td>Single Family Residential</td>\n",
       "    </tr>\n",
       "    <tr>\n",
       "      <th>2</th>\n",
       "      <td>2</td>\n",
       "      <td>11677</td>\n",
       "      <td>14186244</td>\n",
       "      <td>2.0</td>\n",
       "      <td>3.0</td>\n",
       "      <td>2.0</td>\n",
       "      <td>1243.0</td>\n",
       "      <td>6059.0</td>\n",
       "      <td>2.0</td>\n",
       "      <td>33886168.0</td>\n",
       "      <td>...</td>\n",
       "      <td>97078.0</td>\n",
       "      <td>6.0</td>\n",
       "      <td>1962.0</td>\n",
       "      <td>564778.0</td>\n",
       "      <td>2016.0</td>\n",
       "      <td>479489.0</td>\n",
       "      <td>6488.30</td>\n",
       "      <td>0.005383</td>\n",
       "      <td>2017-01-01</td>\n",
       "      <td>Single Family Residential</td>\n",
       "    </tr>\n",
       "    <tr>\n",
       "      <th>7</th>\n",
       "      <td>7</td>\n",
       "      <td>870991</td>\n",
       "      <td>12069064</td>\n",
       "      <td>1.0</td>\n",
       "      <td>2.0</td>\n",
       "      <td>1.0</td>\n",
       "      <td>738.0</td>\n",
       "      <td>6037.0</td>\n",
       "      <td>1.0</td>\n",
       "      <td>34149214.0</td>\n",
       "      <td>...</td>\n",
       "      <td>96325.0</td>\n",
       "      <td>0.0</td>\n",
       "      <td>1922.0</td>\n",
       "      <td>218552.0</td>\n",
       "      <td>2016.0</td>\n",
       "      <td>199662.0</td>\n",
       "      <td>2366.08</td>\n",
       "      <td>0.101723</td>\n",
       "      <td>2017-01-01</td>\n",
       "      <td>Single Family Residential</td>\n",
       "    </tr>\n",
       "    <tr>\n",
       "      <th>10</th>\n",
       "      <td>10</td>\n",
       "      <td>1639362</td>\n",
       "      <td>11104527</td>\n",
       "      <td>3.0</td>\n",
       "      <td>4.0</td>\n",
       "      <td>3.0</td>\n",
       "      <td>2540.0</td>\n",
       "      <td>6037.0</td>\n",
       "      <td>3.0</td>\n",
       "      <td>34434971.0</td>\n",
       "      <td>...</td>\n",
       "      <td>96374.0</td>\n",
       "      <td>0.0</td>\n",
       "      <td>1999.0</td>\n",
       "      <td>430108.0</td>\n",
       "      <td>2016.0</td>\n",
       "      <td>158393.0</td>\n",
       "      <td>6103.36</td>\n",
       "      <td>0.005963</td>\n",
       "      <td>2017-01-02</td>\n",
       "      <td>Single Family Residential</td>\n",
       "    </tr>\n",
       "    <tr>\n",
       "      <th>...</th>\n",
       "      <td>...</td>\n",
       "      <td>...</td>\n",
       "      <td>...</td>\n",
       "      <td>...</td>\n",
       "      <td>...</td>\n",
       "      <td>...</td>\n",
       "      <td>...</td>\n",
       "      <td>...</td>\n",
       "      <td>...</td>\n",
       "      <td>...</td>\n",
       "      <td>...</td>\n",
       "      <td>...</td>\n",
       "      <td>...</td>\n",
       "      <td>...</td>\n",
       "      <td>...</td>\n",
       "      <td>...</td>\n",
       "      <td>...</td>\n",
       "      <td>...</td>\n",
       "      <td>...</td>\n",
       "      <td>...</td>\n",
       "      <td>...</td>\n",
       "    </tr>\n",
       "    <tr>\n",
       "      <th>77567</th>\n",
       "      <td>77567</td>\n",
       "      <td>1373391</td>\n",
       "      <td>10722691</td>\n",
       "      <td>2.0</td>\n",
       "      <td>3.0</td>\n",
       "      <td>2.0</td>\n",
       "      <td>1570.0</td>\n",
       "      <td>6037.0</td>\n",
       "      <td>2.0</td>\n",
       "      <td>34194943.0</td>\n",
       "      <td>...</td>\n",
       "      <td>96342.0</td>\n",
       "      <td>0.0</td>\n",
       "      <td>1958.0</td>\n",
       "      <td>72026.0</td>\n",
       "      <td>2016.0</td>\n",
       "      <td>25242.0</td>\n",
       "      <td>1000.70</td>\n",
       "      <td>0.081196</td>\n",
       "      <td>2017-09-19</td>\n",
       "      <td>Single Family Residential</td>\n",
       "    </tr>\n",
       "    <tr>\n",
       "      <th>77568</th>\n",
       "      <td>77568</td>\n",
       "      <td>2274245</td>\n",
       "      <td>12412492</td>\n",
       "      <td>2.0</td>\n",
       "      <td>4.0</td>\n",
       "      <td>2.0</td>\n",
       "      <td>1633.0</td>\n",
       "      <td>6037.0</td>\n",
       "      <td>2.0</td>\n",
       "      <td>33870815.0</td>\n",
       "      <td>...</td>\n",
       "      <td>96204.0</td>\n",
       "      <td>0.0</td>\n",
       "      <td>1962.0</td>\n",
       "      <td>346534.0</td>\n",
       "      <td>2016.0</td>\n",
       "      <td>221068.0</td>\n",
       "      <td>4175.08</td>\n",
       "      <td>0.001082</td>\n",
       "      <td>2017-09-19</td>\n",
       "      <td>Single Family Residential</td>\n",
       "    </tr>\n",
       "    <tr>\n",
       "      <th>77571</th>\n",
       "      <td>77571</td>\n",
       "      <td>2968375</td>\n",
       "      <td>17239384</td>\n",
       "      <td>2.0</td>\n",
       "      <td>4.0</td>\n",
       "      <td>2.0</td>\n",
       "      <td>1612.0</td>\n",
       "      <td>6111.0</td>\n",
       "      <td>2.0</td>\n",
       "      <td>34300140.0</td>\n",
       "      <td>...</td>\n",
       "      <td>97116.0</td>\n",
       "      <td>7.0</td>\n",
       "      <td>1964.0</td>\n",
       "      <td>67205.0</td>\n",
       "      <td>2016.0</td>\n",
       "      <td>16522.0</td>\n",
       "      <td>1107.48</td>\n",
       "      <td>0.013209</td>\n",
       "      <td>2017-09-21</td>\n",
       "      <td>Single Family Residential</td>\n",
       "    </tr>\n",
       "    <tr>\n",
       "      <th>77572</th>\n",
       "      <td>77572</td>\n",
       "      <td>1843709</td>\n",
       "      <td>12773139</td>\n",
       "      <td>1.0</td>\n",
       "      <td>3.0</td>\n",
       "      <td>1.0</td>\n",
       "      <td>1032.0</td>\n",
       "      <td>6037.0</td>\n",
       "      <td>1.0</td>\n",
       "      <td>34040895.0</td>\n",
       "      <td>...</td>\n",
       "      <td>96480.0</td>\n",
       "      <td>0.0</td>\n",
       "      <td>1954.0</td>\n",
       "      <td>49546.0</td>\n",
       "      <td>2016.0</td>\n",
       "      <td>16749.0</td>\n",
       "      <td>876.43</td>\n",
       "      <td>0.037129</td>\n",
       "      <td>2017-09-21</td>\n",
       "      <td>Single Family Residential</td>\n",
       "    </tr>\n",
       "    <tr>\n",
       "      <th>77573</th>\n",
       "      <td>77573</td>\n",
       "      <td>1187175</td>\n",
       "      <td>12826780</td>\n",
       "      <td>2.0</td>\n",
       "      <td>3.0</td>\n",
       "      <td>2.0</td>\n",
       "      <td>1762.0</td>\n",
       "      <td>6037.0</td>\n",
       "      <td>2.0</td>\n",
       "      <td>33937685.0</td>\n",
       "      <td>...</td>\n",
       "      <td>96171.0</td>\n",
       "      <td>0.0</td>\n",
       "      <td>1955.0</td>\n",
       "      <td>522000.0</td>\n",
       "      <td>2016.0</td>\n",
       "      <td>382000.0</td>\n",
       "      <td>6317.15</td>\n",
       "      <td>0.007204</td>\n",
       "      <td>2017-09-25</td>\n",
       "      <td>Single Family Residential</td>\n",
       "    </tr>\n",
       "  </tbody>\n",
       "</table>\n",
       "<p>41057 rows × 26 columns</p>\n",
       "</div>"
      ],
      "text/plain": [
       "       Unnamed: 0       id  parcelid  bathroomcnt  bedroomcnt  \\\n",
       "0               0  1727539  14297519          3.5         4.0   \n",
       "1               1  1387261  17052889          1.0         2.0   \n",
       "2               2    11677  14186244          2.0         3.0   \n",
       "7               7   870991  12069064          1.0         2.0   \n",
       "10             10  1639362  11104527          3.0         4.0   \n",
       "...           ...      ...       ...          ...         ...   \n",
       "77567       77567  1373391  10722691          2.0         3.0   \n",
       "77568       77568  2274245  12412492          2.0         4.0   \n",
       "77571       77571  2968375  17239384          2.0         4.0   \n",
       "77572       77572  1843709  12773139          1.0         3.0   \n",
       "77573       77573  1187175  12826780          2.0         3.0   \n",
       "\n",
       "       calculatedbathnbr  calculatedfinishedsquarefeet    fips  fullbathcnt  \\\n",
       "0                    3.5                        3100.0  6059.0          3.0   \n",
       "1                    1.0                        1465.0  6111.0          1.0   \n",
       "2                    2.0                        1243.0  6059.0          2.0   \n",
       "7                    1.0                         738.0  6037.0          1.0   \n",
       "10                   3.0                        2540.0  6037.0          3.0   \n",
       "...                  ...                           ...     ...          ...   \n",
       "77567                2.0                        1570.0  6037.0          2.0   \n",
       "77568                2.0                        1633.0  6037.0          2.0   \n",
       "77571                2.0                        1612.0  6111.0          2.0   \n",
       "77572                1.0                        1032.0  6037.0          1.0   \n",
       "77573                2.0                        1762.0  6037.0          2.0   \n",
       "\n",
       "         latitude  ...  regionidzip  roomcnt yearbuilt  taxvaluedollarcnt  \\\n",
       "0      33634931.0  ...      96978.0      0.0    1998.0          1023282.0   \n",
       "1      34449266.0  ...      97099.0      5.0    1967.0           464000.0   \n",
       "2      33886168.0  ...      97078.0      6.0    1962.0           564778.0   \n",
       "7      34149214.0  ...      96325.0      0.0    1922.0           218552.0   \n",
       "10     34434971.0  ...      96374.0      0.0    1999.0           430108.0   \n",
       "...           ...  ...          ...      ...       ...                ...   \n",
       "77567  34194943.0  ...      96342.0      0.0    1958.0            72026.0   \n",
       "77568  33870815.0  ...      96204.0      0.0    1962.0           346534.0   \n",
       "77571  34300140.0  ...      97116.0      7.0    1964.0            67205.0   \n",
       "77572  34040895.0  ...      96480.0      0.0    1954.0            49546.0   \n",
       "77573  33937685.0  ...      96171.0      0.0    1955.0           522000.0   \n",
       "\n",
       "       assessmentyear  landtaxvaluedollarcnt  taxamount  logerror  \\\n",
       "0              2016.0               537569.0   11013.72  0.025595   \n",
       "1              2016.0               376000.0    5672.48  0.055619   \n",
       "2              2016.0               479489.0    6488.30  0.005383   \n",
       "7              2016.0               199662.0    2366.08  0.101723   \n",
       "10             2016.0               158393.0    6103.36  0.005963   \n",
       "...               ...                    ...        ...       ...   \n",
       "77567          2016.0                25242.0    1000.70  0.081196   \n",
       "77568          2016.0               221068.0    4175.08  0.001082   \n",
       "77571          2016.0                16522.0    1107.48  0.013209   \n",
       "77572          2016.0                16749.0     876.43  0.037129   \n",
       "77573          2016.0               382000.0    6317.15  0.007204   \n",
       "\n",
       "       transactiondate        propertylandusedesc  \n",
       "0           2017-01-01  Single Family Residential  \n",
       "1           2017-01-01  Single Family Residential  \n",
       "2           2017-01-01  Single Family Residential  \n",
       "7           2017-01-01  Single Family Residential  \n",
       "10          2017-01-02  Single Family Residential  \n",
       "...                ...                        ...  \n",
       "77567       2017-09-19  Single Family Residential  \n",
       "77568       2017-09-19  Single Family Residential  \n",
       "77571       2017-09-21  Single Family Residential  \n",
       "77572       2017-09-21  Single Family Residential  \n",
       "77573       2017-09-25  Single Family Residential  \n",
       "\n",
       "[41057 rows x 26 columns]"
      ]
     },
     "execution_count": 31,
     "metadata": {},
     "output_type": "execute_result"
    }
   ],
   "source": [
    "impute(zillow_df, strat = 'mean', col_list = ['yearbuilt','calculatedbathnbr','fullbathcnt','regionidzip','calculatedfinishedsquarefeet'])"
   ]
  },
  {
   "cell_type": "code",
   "execution_count": 32,
   "metadata": {},
   "outputs": [],
   "source": [
    "zillow_df = zillow_df.drop(columns = 'regionidcity')"
   ]
  },
  {
   "cell_type": "code",
   "execution_count": 33,
   "metadata": {},
   "outputs": [
    {
     "data": {
      "text/html": [
       "<div>\n",
       "<style scoped>\n",
       "    .dataframe tbody tr th:only-of-type {\n",
       "        vertical-align: middle;\n",
       "    }\n",
       "\n",
       "    .dataframe tbody tr th {\n",
       "        vertical-align: top;\n",
       "    }\n",
       "\n",
       "    .dataframe thead th {\n",
       "        text-align: right;\n",
       "    }\n",
       "</style>\n",
       "<table border=\"1\" class=\"dataframe\">\n",
       "  <thead>\n",
       "    <tr style=\"text-align: right;\">\n",
       "      <th></th>\n",
       "      <th>Unnamed: 0</th>\n",
       "      <th>id</th>\n",
       "      <th>parcelid</th>\n",
       "      <th>bathroomcnt</th>\n",
       "      <th>bedroomcnt</th>\n",
       "      <th>calculatedbathnbr</th>\n",
       "      <th>calculatedfinishedsquarefeet</th>\n",
       "      <th>fips</th>\n",
       "      <th>fullbathcnt</th>\n",
       "      <th>latitude</th>\n",
       "      <th>...</th>\n",
       "      <th>regionidzip</th>\n",
       "      <th>roomcnt</th>\n",
       "      <th>yearbuilt</th>\n",
       "      <th>taxvaluedollarcnt</th>\n",
       "      <th>assessmentyear</th>\n",
       "      <th>landtaxvaluedollarcnt</th>\n",
       "      <th>taxamount</th>\n",
       "      <th>logerror</th>\n",
       "      <th>transactiondate</th>\n",
       "      <th>propertylandusedesc</th>\n",
       "    </tr>\n",
       "  </thead>\n",
       "  <tbody>\n",
       "    <tr>\n",
       "      <th>0</th>\n",
       "      <td>0</td>\n",
       "      <td>1727539</td>\n",
       "      <td>14297519</td>\n",
       "      <td>3.5</td>\n",
       "      <td>4.0</td>\n",
       "      <td>3.5</td>\n",
       "      <td>3100.0</td>\n",
       "      <td>6059.0</td>\n",
       "      <td>3.0</td>\n",
       "      <td>33634931.0</td>\n",
       "      <td>...</td>\n",
       "      <td>96978.0</td>\n",
       "      <td>0.0</td>\n",
       "      <td>1998.0</td>\n",
       "      <td>1023282.0</td>\n",
       "      <td>2016.0</td>\n",
       "      <td>537569.0</td>\n",
       "      <td>11013.72</td>\n",
       "      <td>0.025595</td>\n",
       "      <td>2017-01-01</td>\n",
       "      <td>Single Family Residential</td>\n",
       "    </tr>\n",
       "    <tr>\n",
       "      <th>1</th>\n",
       "      <td>1</td>\n",
       "      <td>1387261</td>\n",
       "      <td>17052889</td>\n",
       "      <td>1.0</td>\n",
       "      <td>2.0</td>\n",
       "      <td>1.0</td>\n",
       "      <td>1465.0</td>\n",
       "      <td>6111.0</td>\n",
       "      <td>1.0</td>\n",
       "      <td>34449266.0</td>\n",
       "      <td>...</td>\n",
       "      <td>97099.0</td>\n",
       "      <td>5.0</td>\n",
       "      <td>1967.0</td>\n",
       "      <td>464000.0</td>\n",
       "      <td>2016.0</td>\n",
       "      <td>376000.0</td>\n",
       "      <td>5672.48</td>\n",
       "      <td>0.055619</td>\n",
       "      <td>2017-01-01</td>\n",
       "      <td>Single Family Residential</td>\n",
       "    </tr>\n",
       "    <tr>\n",
       "      <th>2</th>\n",
       "      <td>2</td>\n",
       "      <td>11677</td>\n",
       "      <td>14186244</td>\n",
       "      <td>2.0</td>\n",
       "      <td>3.0</td>\n",
       "      <td>2.0</td>\n",
       "      <td>1243.0</td>\n",
       "      <td>6059.0</td>\n",
       "      <td>2.0</td>\n",
       "      <td>33886168.0</td>\n",
       "      <td>...</td>\n",
       "      <td>97078.0</td>\n",
       "      <td>6.0</td>\n",
       "      <td>1962.0</td>\n",
       "      <td>564778.0</td>\n",
       "      <td>2016.0</td>\n",
       "      <td>479489.0</td>\n",
       "      <td>6488.30</td>\n",
       "      <td>0.005383</td>\n",
       "      <td>2017-01-01</td>\n",
       "      <td>Single Family Residential</td>\n",
       "    </tr>\n",
       "    <tr>\n",
       "      <th>7</th>\n",
       "      <td>7</td>\n",
       "      <td>870991</td>\n",
       "      <td>12069064</td>\n",
       "      <td>1.0</td>\n",
       "      <td>2.0</td>\n",
       "      <td>1.0</td>\n",
       "      <td>738.0</td>\n",
       "      <td>6037.0</td>\n",
       "      <td>1.0</td>\n",
       "      <td>34149214.0</td>\n",
       "      <td>...</td>\n",
       "      <td>96325.0</td>\n",
       "      <td>0.0</td>\n",
       "      <td>1922.0</td>\n",
       "      <td>218552.0</td>\n",
       "      <td>2016.0</td>\n",
       "      <td>199662.0</td>\n",
       "      <td>2366.08</td>\n",
       "      <td>0.101723</td>\n",
       "      <td>2017-01-01</td>\n",
       "      <td>Single Family Residential</td>\n",
       "    </tr>\n",
       "    <tr>\n",
       "      <th>10</th>\n",
       "      <td>10</td>\n",
       "      <td>1639362</td>\n",
       "      <td>11104527</td>\n",
       "      <td>3.0</td>\n",
       "      <td>4.0</td>\n",
       "      <td>3.0</td>\n",
       "      <td>2540.0</td>\n",
       "      <td>6037.0</td>\n",
       "      <td>3.0</td>\n",
       "      <td>34434971.0</td>\n",
       "      <td>...</td>\n",
       "      <td>96374.0</td>\n",
       "      <td>0.0</td>\n",
       "      <td>1999.0</td>\n",
       "      <td>430108.0</td>\n",
       "      <td>2016.0</td>\n",
       "      <td>158393.0</td>\n",
       "      <td>6103.36</td>\n",
       "      <td>0.005963</td>\n",
       "      <td>2017-01-02</td>\n",
       "      <td>Single Family Residential</td>\n",
       "    </tr>\n",
       "    <tr>\n",
       "      <th>...</th>\n",
       "      <td>...</td>\n",
       "      <td>...</td>\n",
       "      <td>...</td>\n",
       "      <td>...</td>\n",
       "      <td>...</td>\n",
       "      <td>...</td>\n",
       "      <td>...</td>\n",
       "      <td>...</td>\n",
       "      <td>...</td>\n",
       "      <td>...</td>\n",
       "      <td>...</td>\n",
       "      <td>...</td>\n",
       "      <td>...</td>\n",
       "      <td>...</td>\n",
       "      <td>...</td>\n",
       "      <td>...</td>\n",
       "      <td>...</td>\n",
       "      <td>...</td>\n",
       "      <td>...</td>\n",
       "      <td>...</td>\n",
       "      <td>...</td>\n",
       "    </tr>\n",
       "    <tr>\n",
       "      <th>77567</th>\n",
       "      <td>77567</td>\n",
       "      <td>1373391</td>\n",
       "      <td>10722691</td>\n",
       "      <td>2.0</td>\n",
       "      <td>3.0</td>\n",
       "      <td>2.0</td>\n",
       "      <td>1570.0</td>\n",
       "      <td>6037.0</td>\n",
       "      <td>2.0</td>\n",
       "      <td>34194943.0</td>\n",
       "      <td>...</td>\n",
       "      <td>96342.0</td>\n",
       "      <td>0.0</td>\n",
       "      <td>1958.0</td>\n",
       "      <td>72026.0</td>\n",
       "      <td>2016.0</td>\n",
       "      <td>25242.0</td>\n",
       "      <td>1000.70</td>\n",
       "      <td>0.081196</td>\n",
       "      <td>2017-09-19</td>\n",
       "      <td>Single Family Residential</td>\n",
       "    </tr>\n",
       "    <tr>\n",
       "      <th>77568</th>\n",
       "      <td>77568</td>\n",
       "      <td>2274245</td>\n",
       "      <td>12412492</td>\n",
       "      <td>2.0</td>\n",
       "      <td>4.0</td>\n",
       "      <td>2.0</td>\n",
       "      <td>1633.0</td>\n",
       "      <td>6037.0</td>\n",
       "      <td>2.0</td>\n",
       "      <td>33870815.0</td>\n",
       "      <td>...</td>\n",
       "      <td>96204.0</td>\n",
       "      <td>0.0</td>\n",
       "      <td>1962.0</td>\n",
       "      <td>346534.0</td>\n",
       "      <td>2016.0</td>\n",
       "      <td>221068.0</td>\n",
       "      <td>4175.08</td>\n",
       "      <td>0.001082</td>\n",
       "      <td>2017-09-19</td>\n",
       "      <td>Single Family Residential</td>\n",
       "    </tr>\n",
       "    <tr>\n",
       "      <th>77571</th>\n",
       "      <td>77571</td>\n",
       "      <td>2968375</td>\n",
       "      <td>17239384</td>\n",
       "      <td>2.0</td>\n",
       "      <td>4.0</td>\n",
       "      <td>2.0</td>\n",
       "      <td>1612.0</td>\n",
       "      <td>6111.0</td>\n",
       "      <td>2.0</td>\n",
       "      <td>34300140.0</td>\n",
       "      <td>...</td>\n",
       "      <td>97116.0</td>\n",
       "      <td>7.0</td>\n",
       "      <td>1964.0</td>\n",
       "      <td>67205.0</td>\n",
       "      <td>2016.0</td>\n",
       "      <td>16522.0</td>\n",
       "      <td>1107.48</td>\n",
       "      <td>0.013209</td>\n",
       "      <td>2017-09-21</td>\n",
       "      <td>Single Family Residential</td>\n",
       "    </tr>\n",
       "    <tr>\n",
       "      <th>77572</th>\n",
       "      <td>77572</td>\n",
       "      <td>1843709</td>\n",
       "      <td>12773139</td>\n",
       "      <td>1.0</td>\n",
       "      <td>3.0</td>\n",
       "      <td>1.0</td>\n",
       "      <td>1032.0</td>\n",
       "      <td>6037.0</td>\n",
       "      <td>1.0</td>\n",
       "      <td>34040895.0</td>\n",
       "      <td>...</td>\n",
       "      <td>96480.0</td>\n",
       "      <td>0.0</td>\n",
       "      <td>1954.0</td>\n",
       "      <td>49546.0</td>\n",
       "      <td>2016.0</td>\n",
       "      <td>16749.0</td>\n",
       "      <td>876.43</td>\n",
       "      <td>0.037129</td>\n",
       "      <td>2017-09-21</td>\n",
       "      <td>Single Family Residential</td>\n",
       "    </tr>\n",
       "    <tr>\n",
       "      <th>77573</th>\n",
       "      <td>77573</td>\n",
       "      <td>1187175</td>\n",
       "      <td>12826780</td>\n",
       "      <td>2.0</td>\n",
       "      <td>3.0</td>\n",
       "      <td>2.0</td>\n",
       "      <td>1762.0</td>\n",
       "      <td>6037.0</td>\n",
       "      <td>2.0</td>\n",
       "      <td>33937685.0</td>\n",
       "      <td>...</td>\n",
       "      <td>96171.0</td>\n",
       "      <td>0.0</td>\n",
       "      <td>1955.0</td>\n",
       "      <td>522000.0</td>\n",
       "      <td>2016.0</td>\n",
       "      <td>382000.0</td>\n",
       "      <td>6317.15</td>\n",
       "      <td>0.007204</td>\n",
       "      <td>2017-09-25</td>\n",
       "      <td>Single Family Residential</td>\n",
       "    </tr>\n",
       "  </tbody>\n",
       "</table>\n",
       "<p>41057 rows × 25 columns</p>\n",
       "</div>"
      ],
      "text/plain": [
       "       Unnamed: 0       id  parcelid  bathroomcnt  bedroomcnt  \\\n",
       "0               0  1727539  14297519          3.5         4.0   \n",
       "1               1  1387261  17052889          1.0         2.0   \n",
       "2               2    11677  14186244          2.0         3.0   \n",
       "7               7   870991  12069064          1.0         2.0   \n",
       "10             10  1639362  11104527          3.0         4.0   \n",
       "...           ...      ...       ...          ...         ...   \n",
       "77567       77567  1373391  10722691          2.0         3.0   \n",
       "77568       77568  2274245  12412492          2.0         4.0   \n",
       "77571       77571  2968375  17239384          2.0         4.0   \n",
       "77572       77572  1843709  12773139          1.0         3.0   \n",
       "77573       77573  1187175  12826780          2.0         3.0   \n",
       "\n",
       "       calculatedbathnbr  calculatedfinishedsquarefeet    fips  fullbathcnt  \\\n",
       "0                    3.5                        3100.0  6059.0          3.0   \n",
       "1                    1.0                        1465.0  6111.0          1.0   \n",
       "2                    2.0                        1243.0  6059.0          2.0   \n",
       "7                    1.0                         738.0  6037.0          1.0   \n",
       "10                   3.0                        2540.0  6037.0          3.0   \n",
       "...                  ...                           ...     ...          ...   \n",
       "77567                2.0                        1570.0  6037.0          2.0   \n",
       "77568                2.0                        1633.0  6037.0          2.0   \n",
       "77571                2.0                        1612.0  6111.0          2.0   \n",
       "77572                1.0                        1032.0  6037.0          1.0   \n",
       "77573                2.0                        1762.0  6037.0          2.0   \n",
       "\n",
       "         latitude  ...  regionidzip  roomcnt yearbuilt  taxvaluedollarcnt  \\\n",
       "0      33634931.0  ...      96978.0      0.0    1998.0          1023282.0   \n",
       "1      34449266.0  ...      97099.0      5.0    1967.0           464000.0   \n",
       "2      33886168.0  ...      97078.0      6.0    1962.0           564778.0   \n",
       "7      34149214.0  ...      96325.0      0.0    1922.0           218552.0   \n",
       "10     34434971.0  ...      96374.0      0.0    1999.0           430108.0   \n",
       "...           ...  ...          ...      ...       ...                ...   \n",
       "77567  34194943.0  ...      96342.0      0.0    1958.0            72026.0   \n",
       "77568  33870815.0  ...      96204.0      0.0    1962.0           346534.0   \n",
       "77571  34300140.0  ...      97116.0      7.0    1964.0            67205.0   \n",
       "77572  34040895.0  ...      96480.0      0.0    1954.0            49546.0   \n",
       "77573  33937685.0  ...      96171.0      0.0    1955.0           522000.0   \n",
       "\n",
       "       assessmentyear  landtaxvaluedollarcnt  taxamount  logerror  \\\n",
       "0              2016.0               537569.0   11013.72  0.025595   \n",
       "1              2016.0               376000.0    5672.48  0.055619   \n",
       "2              2016.0               479489.0    6488.30  0.005383   \n",
       "7              2016.0               199662.0    2366.08  0.101723   \n",
       "10             2016.0               158393.0    6103.36  0.005963   \n",
       "...               ...                    ...        ...       ...   \n",
       "77567          2016.0                25242.0    1000.70  0.081196   \n",
       "77568          2016.0               221068.0    4175.08  0.001082   \n",
       "77571          2016.0                16522.0    1107.48  0.013209   \n",
       "77572          2016.0                16749.0     876.43  0.037129   \n",
       "77573          2016.0               382000.0    6317.15  0.007204   \n",
       "\n",
       "       transactiondate        propertylandusedesc  \n",
       "0           2017-01-01  Single Family Residential  \n",
       "1           2017-01-01  Single Family Residential  \n",
       "2           2017-01-01  Single Family Residential  \n",
       "7           2017-01-01  Single Family Residential  \n",
       "10          2017-01-02  Single Family Residential  \n",
       "...                ...                        ...  \n",
       "77567       2017-09-19  Single Family Residential  \n",
       "77568       2017-09-19  Single Family Residential  \n",
       "77571       2017-09-21  Single Family Residential  \n",
       "77572       2017-09-21  Single Family Residential  \n",
       "77573       2017-09-25  Single Family Residential  \n",
       "\n",
       "[41057 rows x 25 columns]"
      ]
     },
     "execution_count": 33,
     "metadata": {},
     "output_type": "execute_result"
    }
   ],
   "source": [
    "zillow_df"
   ]
  },
  {
   "cell_type": "code",
   "execution_count": 34,
   "metadata": {},
   "outputs": [],
   "source": [
    "zillow_df['county'] = zillow_df['fips'].replace(to_replace = [6037, 6059, 6111], value = ['LA','Orange','Ventura'])"
   ]
  },
  {
   "cell_type": "code",
   "execution_count": 35,
   "metadata": {},
   "outputs": [],
   "source": [
    "zillow_df = zillow_df.drop(columns = 'fips')"
   ]
  },
  {
   "cell_type": "code",
   "execution_count": 36,
   "metadata": {},
   "outputs": [
    {
     "data": {
      "text/html": [
       "<div>\n",
       "<style scoped>\n",
       "    .dataframe tbody tr th:only-of-type {\n",
       "        vertical-align: middle;\n",
       "    }\n",
       "\n",
       "    .dataframe tbody tr th {\n",
       "        vertical-align: top;\n",
       "    }\n",
       "\n",
       "    .dataframe thead th {\n",
       "        text-align: right;\n",
       "    }\n",
       "</style>\n",
       "<table border=\"1\" class=\"dataframe\">\n",
       "  <thead>\n",
       "    <tr style=\"text-align: right;\">\n",
       "      <th></th>\n",
       "      <th>Unnamed: 0</th>\n",
       "      <th>id</th>\n",
       "      <th>parcelid</th>\n",
       "      <th>bathroomcnt</th>\n",
       "      <th>bedroomcnt</th>\n",
       "      <th>calculatedbathnbr</th>\n",
       "      <th>calculatedfinishedsquarefeet</th>\n",
       "      <th>fullbathcnt</th>\n",
       "      <th>latitude</th>\n",
       "      <th>longitude</th>\n",
       "      <th>...</th>\n",
       "      <th>roomcnt</th>\n",
       "      <th>yearbuilt</th>\n",
       "      <th>taxvaluedollarcnt</th>\n",
       "      <th>assessmentyear</th>\n",
       "      <th>landtaxvaluedollarcnt</th>\n",
       "      <th>taxamount</th>\n",
       "      <th>logerror</th>\n",
       "      <th>transactiondate</th>\n",
       "      <th>propertylandusedesc</th>\n",
       "      <th>county</th>\n",
       "    </tr>\n",
       "  </thead>\n",
       "  <tbody>\n",
       "    <tr>\n",
       "      <th>0</th>\n",
       "      <td>0</td>\n",
       "      <td>1727539</td>\n",
       "      <td>14297519</td>\n",
       "      <td>3.5</td>\n",
       "      <td>4.0</td>\n",
       "      <td>3.5</td>\n",
       "      <td>3100.0</td>\n",
       "      <td>3.0</td>\n",
       "      <td>33634931.0</td>\n",
       "      <td>-117869207.0</td>\n",
       "      <td>...</td>\n",
       "      <td>0.0</td>\n",
       "      <td>1998.0</td>\n",
       "      <td>1023282.0</td>\n",
       "      <td>2016.0</td>\n",
       "      <td>537569.0</td>\n",
       "      <td>11013.72</td>\n",
       "      <td>0.025595</td>\n",
       "      <td>2017-01-01</td>\n",
       "      <td>Single Family Residential</td>\n",
       "      <td>Orange</td>\n",
       "    </tr>\n",
       "    <tr>\n",
       "      <th>1</th>\n",
       "      <td>1</td>\n",
       "      <td>1387261</td>\n",
       "      <td>17052889</td>\n",
       "      <td>1.0</td>\n",
       "      <td>2.0</td>\n",
       "      <td>1.0</td>\n",
       "      <td>1465.0</td>\n",
       "      <td>1.0</td>\n",
       "      <td>34449266.0</td>\n",
       "      <td>-119281531.0</td>\n",
       "      <td>...</td>\n",
       "      <td>5.0</td>\n",
       "      <td>1967.0</td>\n",
       "      <td>464000.0</td>\n",
       "      <td>2016.0</td>\n",
       "      <td>376000.0</td>\n",
       "      <td>5672.48</td>\n",
       "      <td>0.055619</td>\n",
       "      <td>2017-01-01</td>\n",
       "      <td>Single Family Residential</td>\n",
       "      <td>Ventura</td>\n",
       "    </tr>\n",
       "    <tr>\n",
       "      <th>2</th>\n",
       "      <td>2</td>\n",
       "      <td>11677</td>\n",
       "      <td>14186244</td>\n",
       "      <td>2.0</td>\n",
       "      <td>3.0</td>\n",
       "      <td>2.0</td>\n",
       "      <td>1243.0</td>\n",
       "      <td>2.0</td>\n",
       "      <td>33886168.0</td>\n",
       "      <td>-117823170.0</td>\n",
       "      <td>...</td>\n",
       "      <td>6.0</td>\n",
       "      <td>1962.0</td>\n",
       "      <td>564778.0</td>\n",
       "      <td>2016.0</td>\n",
       "      <td>479489.0</td>\n",
       "      <td>6488.30</td>\n",
       "      <td>0.005383</td>\n",
       "      <td>2017-01-01</td>\n",
       "      <td>Single Family Residential</td>\n",
       "      <td>Orange</td>\n",
       "    </tr>\n",
       "    <tr>\n",
       "      <th>7</th>\n",
       "      <td>7</td>\n",
       "      <td>870991</td>\n",
       "      <td>12069064</td>\n",
       "      <td>1.0</td>\n",
       "      <td>2.0</td>\n",
       "      <td>1.0</td>\n",
       "      <td>738.0</td>\n",
       "      <td>1.0</td>\n",
       "      <td>34149214.0</td>\n",
       "      <td>-118239357.0</td>\n",
       "      <td>...</td>\n",
       "      <td>0.0</td>\n",
       "      <td>1922.0</td>\n",
       "      <td>218552.0</td>\n",
       "      <td>2016.0</td>\n",
       "      <td>199662.0</td>\n",
       "      <td>2366.08</td>\n",
       "      <td>0.101723</td>\n",
       "      <td>2017-01-01</td>\n",
       "      <td>Single Family Residential</td>\n",
       "      <td>LA</td>\n",
       "    </tr>\n",
       "    <tr>\n",
       "      <th>10</th>\n",
       "      <td>10</td>\n",
       "      <td>1639362</td>\n",
       "      <td>11104527</td>\n",
       "      <td>3.0</td>\n",
       "      <td>4.0</td>\n",
       "      <td>3.0</td>\n",
       "      <td>2540.0</td>\n",
       "      <td>3.0</td>\n",
       "      <td>34434971.0</td>\n",
       "      <td>-118464390.0</td>\n",
       "      <td>...</td>\n",
       "      <td>0.0</td>\n",
       "      <td>1999.0</td>\n",
       "      <td>430108.0</td>\n",
       "      <td>2016.0</td>\n",
       "      <td>158393.0</td>\n",
       "      <td>6103.36</td>\n",
       "      <td>0.005963</td>\n",
       "      <td>2017-01-02</td>\n",
       "      <td>Single Family Residential</td>\n",
       "      <td>LA</td>\n",
       "    </tr>\n",
       "  </tbody>\n",
       "</table>\n",
       "<p>5 rows × 25 columns</p>\n",
       "</div>"
      ],
      "text/plain": [
       "    Unnamed: 0       id  parcelid  bathroomcnt  bedroomcnt  calculatedbathnbr  \\\n",
       "0            0  1727539  14297519          3.5         4.0                3.5   \n",
       "1            1  1387261  17052889          1.0         2.0                1.0   \n",
       "2            2    11677  14186244          2.0         3.0                2.0   \n",
       "7            7   870991  12069064          1.0         2.0                1.0   \n",
       "10          10  1639362  11104527          3.0         4.0                3.0   \n",
       "\n",
       "    calculatedfinishedsquarefeet  fullbathcnt    latitude    longitude  ...  \\\n",
       "0                         3100.0          3.0  33634931.0 -117869207.0  ...   \n",
       "1                         1465.0          1.0  34449266.0 -119281531.0  ...   \n",
       "2                         1243.0          2.0  33886168.0 -117823170.0  ...   \n",
       "7                          738.0          1.0  34149214.0 -118239357.0  ...   \n",
       "10                        2540.0          3.0  34434971.0 -118464390.0  ...   \n",
       "\n",
       "    roomcnt yearbuilt  taxvaluedollarcnt  assessmentyear  \\\n",
       "0       0.0    1998.0          1023282.0          2016.0   \n",
       "1       5.0    1967.0           464000.0          2016.0   \n",
       "2       6.0    1962.0           564778.0          2016.0   \n",
       "7       0.0    1922.0           218552.0          2016.0   \n",
       "10      0.0    1999.0           430108.0          2016.0   \n",
       "\n",
       "    landtaxvaluedollarcnt  taxamount  logerror  transactiondate  \\\n",
       "0                537569.0   11013.72  0.025595       2017-01-01   \n",
       "1                376000.0    5672.48  0.055619       2017-01-01   \n",
       "2                479489.0    6488.30  0.005383       2017-01-01   \n",
       "7                199662.0    2366.08  0.101723       2017-01-01   \n",
       "10               158393.0    6103.36  0.005963       2017-01-02   \n",
       "\n",
       "          propertylandusedesc   county  \n",
       "0   Single Family Residential   Orange  \n",
       "1   Single Family Residential  Ventura  \n",
       "2   Single Family Residential   Orange  \n",
       "7   Single Family Residential       LA  \n",
       "10  Single Family Residential       LA  \n",
       "\n",
       "[5 rows x 25 columns]"
      ]
     },
     "execution_count": 36,
     "metadata": {},
     "output_type": "execute_result"
    }
   ],
   "source": [
    "zillow_df.head()"
   ]
  },
  {
   "cell_type": "code",
   "execution_count": 37,
   "metadata": {},
   "outputs": [
    {
     "data": {
      "text/plain": [
       "Index(['Unnamed: 0', 'id', 'parcelid', 'bathroomcnt', 'bedroomcnt',\n",
       "       'calculatedbathnbr', 'calculatedfinishedsquarefeet', 'fullbathcnt',\n",
       "       'latitude', 'longitude', 'lotsizesquarefeet',\n",
       "       'propertycountylandusecode', 'propertylandusetypeid', 'regionidcounty',\n",
       "       'regionidzip', 'roomcnt', 'yearbuilt', 'taxvaluedollarcnt',\n",
       "       'assessmentyear', 'landtaxvaluedollarcnt', 'taxamount', 'logerror',\n",
       "       'transactiondate', 'propertylandusedesc', 'county'],\n",
       "      dtype='object')"
      ]
     },
     "execution_count": 37,
     "metadata": {},
     "output_type": "execute_result"
    }
   ],
   "source": [
    "zillow_df.columns"
   ]
  },
  {
   "cell_type": "code",
   "execution_count": 38,
   "metadata": {},
   "outputs": [],
   "source": [
    "zillow_df = zillow_df.drop(columns = ['propertylandusetypeid','propertycountylandusecode','roomcnt','transactiondate','regionidcounty'])"
   ]
  },
  {
   "cell_type": "code",
   "execution_count": 39,
   "metadata": {},
   "outputs": [
    {
     "data": {
      "text/plain": [
       "(41057, 20)"
      ]
     },
     "execution_count": 39,
     "metadata": {},
     "output_type": "execute_result"
    }
   ],
   "source": [
    "zillow_df.shape"
   ]
  },
  {
   "cell_type": "code",
   "execution_count": 2,
   "metadata": {},
   "outputs": [],
   "source": [
    "clean_df = wr.wrangle_zillow()"
   ]
  },
  {
   "cell_type": "code",
   "execution_count": 3,
   "metadata": {},
   "outputs": [
    {
     "data": {
      "text/plain": [
       "Index(['id', 'parcelid', 'bathroomcnt', 'bedroomcnt',\n",
       "       'calculatedfinishedsquarefeet', 'latitude', 'longitude',\n",
       "       'lotsizesquarefeet', 'regionidzip', 'yearbuilt', 'taxvaluedollarcnt',\n",
       "       'landtaxvaluedollarcnt', 'taxamount', 'logerror', 'propertylandusedesc',\n",
       "       'county'],\n",
       "      dtype='object')"
      ]
     },
     "execution_count": 3,
     "metadata": {},
     "output_type": "execute_result"
    }
   ],
   "source": [
    "clean_df.columns"
   ]
  },
  {
   "cell_type": "code",
   "execution_count": 4,
   "metadata": {},
   "outputs": [
    {
     "data": {
      "text/html": [
       "<div>\n",
       "<style scoped>\n",
       "    .dataframe tbody tr th:only-of-type {\n",
       "        vertical-align: middle;\n",
       "    }\n",
       "\n",
       "    .dataframe tbody tr th {\n",
       "        vertical-align: top;\n",
       "    }\n",
       "\n",
       "    .dataframe thead th {\n",
       "        text-align: right;\n",
       "    }\n",
       "</style>\n",
       "<table border=\"1\" class=\"dataframe\">\n",
       "  <thead>\n",
       "    <tr style=\"text-align: right;\">\n",
       "      <th></th>\n",
       "      <th>count</th>\n",
       "      <th>mean</th>\n",
       "      <th>std</th>\n",
       "      <th>min</th>\n",
       "      <th>25%</th>\n",
       "      <th>50%</th>\n",
       "      <th>75%</th>\n",
       "      <th>max</th>\n",
       "    </tr>\n",
       "  </thead>\n",
       "  <tbody>\n",
       "    <tr>\n",
       "      <th>id</th>\n",
       "      <td>44039.0</td>\n",
       "      <td>1.496087e+06</td>\n",
       "      <td>8.589188e+05</td>\n",
       "      <td>3.550000e+02</td>\n",
       "      <td>7.582770e+05</td>\n",
       "      <td>1.497808e+06</td>\n",
       "      <td>2.240202e+06</td>\n",
       "      <td>2.982167e+06</td>\n",
       "    </tr>\n",
       "    <tr>\n",
       "      <th>parcelid</th>\n",
       "      <td>44039.0</td>\n",
       "      <td>1.297207e+07</td>\n",
       "      <td>2.150385e+06</td>\n",
       "      <td>1.071186e+07</td>\n",
       "      <td>1.151226e+07</td>\n",
       "      <td>1.261842e+07</td>\n",
       "      <td>1.410872e+07</td>\n",
       "      <td>1.629608e+08</td>\n",
       "    </tr>\n",
       "    <tr>\n",
       "      <th>bathroomcnt</th>\n",
       "      <td>44039.0</td>\n",
       "      <td>2.085561e+00</td>\n",
       "      <td>7.363994e-01</td>\n",
       "      <td>1.000000e+00</td>\n",
       "      <td>2.000000e+00</td>\n",
       "      <td>2.000000e+00</td>\n",
       "      <td>2.500000e+00</td>\n",
       "      <td>4.000000e+00</td>\n",
       "    </tr>\n",
       "    <tr>\n",
       "      <th>bedroomcnt</th>\n",
       "      <td>44039.0</td>\n",
       "      <td>3.199550e+00</td>\n",
       "      <td>8.478721e-01</td>\n",
       "      <td>0.000000e+00</td>\n",
       "      <td>3.000000e+00</td>\n",
       "      <td>3.000000e+00</td>\n",
       "      <td>4.000000e+00</td>\n",
       "      <td>6.000000e+00</td>\n",
       "    </tr>\n",
       "    <tr>\n",
       "      <th>calculatedfinishedsquarefeet</th>\n",
       "      <td>44039.0</td>\n",
       "      <td>1.689670e+03</td>\n",
       "      <td>6.374105e+02</td>\n",
       "      <td>1.520000e+02</td>\n",
       "      <td>1.227000e+03</td>\n",
       "      <td>1.555000e+03</td>\n",
       "      <td>2.036000e+03</td>\n",
       "      <td>5.493000e+03</td>\n",
       "    </tr>\n",
       "    <tr>\n",
       "      <th>latitude</th>\n",
       "      <td>44039.0</td>\n",
       "      <td>3.402260e+07</td>\n",
       "      <td>2.701766e+05</td>\n",
       "      <td>3.334085e+07</td>\n",
       "      <td>3.382998e+07</td>\n",
       "      <td>3.400756e+07</td>\n",
       "      <td>3.419034e+07</td>\n",
       "      <td>3.472023e+07</td>\n",
       "    </tr>\n",
       "    <tr>\n",
       "      <th>longitude</th>\n",
       "      <td>44039.0</td>\n",
       "      <td>-1.181883e+08</td>\n",
       "      <td>3.532717e+05</td>\n",
       "      <td>-1.194753e+08</td>\n",
       "      <td>-1.183809e+08</td>\n",
       "      <td>-1.181401e+08</td>\n",
       "      <td>-1.179355e+08</td>\n",
       "      <td>-1.175546e+08</td>\n",
       "    </tr>\n",
       "    <tr>\n",
       "      <th>lotsizesquarefeet</th>\n",
       "      <td>44039.0</td>\n",
       "      <td>7.032648e+03</td>\n",
       "      <td>2.869854e+03</td>\n",
       "      <td>2.360000e+02</td>\n",
       "      <td>5.434000e+03</td>\n",
       "      <td>6.600000e+03</td>\n",
       "      <td>7.976000e+03</td>\n",
       "      <td>1.993300e+04</td>\n",
       "    </tr>\n",
       "    <tr>\n",
       "      <th>regionidzip</th>\n",
       "      <td>44039.0</td>\n",
       "      <td>9.658975e+04</td>\n",
       "      <td>2.536313e+03</td>\n",
       "      <td>9.598200e+04</td>\n",
       "      <td>9.621200e+04</td>\n",
       "      <td>9.641500e+04</td>\n",
       "      <td>9.699600e+04</td>\n",
       "      <td>3.996750e+05</td>\n",
       "    </tr>\n",
       "    <tr>\n",
       "      <th>yearbuilt</th>\n",
       "      <td>44015.0</td>\n",
       "      <td>1.961509e+03</td>\n",
       "      <td>2.176626e+01</td>\n",
       "      <td>1.878000e+03</td>\n",
       "      <td>1.950000e+03</td>\n",
       "      <td>1.959000e+03</td>\n",
       "      <td>1.976000e+03</td>\n",
       "      <td>2.016000e+03</td>\n",
       "    </tr>\n",
       "    <tr>\n",
       "      <th>taxvaluedollarcnt</th>\n",
       "      <td>44039.0</td>\n",
       "      <td>3.620064e+05</td>\n",
       "      <td>2.319986e+05</td>\n",
       "      <td>3.254000e+03</td>\n",
       "      <td>1.717180e+05</td>\n",
       "      <td>3.304610e+05</td>\n",
       "      <td>5.090000e+05</td>\n",
       "      <td>1.103000e+06</td>\n",
       "    </tr>\n",
       "    <tr>\n",
       "      <th>landtaxvaluedollarcnt</th>\n",
       "      <td>44039.0</td>\n",
       "      <td>2.237936e+05</td>\n",
       "      <td>1.799820e+05</td>\n",
       "      <td>2.250000e+03</td>\n",
       "      <td>6.289950e+04</td>\n",
       "      <td>1.880420e+05</td>\n",
       "      <td>3.383440e+05</td>\n",
       "      <td>1.014228e+06</td>\n",
       "    </tr>\n",
       "    <tr>\n",
       "      <th>taxamount</th>\n",
       "      <td>44039.0</td>\n",
       "      <td>4.485222e+03</td>\n",
       "      <td>2.615717e+03</td>\n",
       "      <td>4.918000e+01</td>\n",
       "      <td>2.417160e+03</td>\n",
       "      <td>4.172600e+03</td>\n",
       "      <td>6.135560e+03</td>\n",
       "      <td>1.190962e+04</td>\n",
       "    </tr>\n",
       "    <tr>\n",
       "      <th>logerror</th>\n",
       "      <td>44039.0</td>\n",
       "      <td>1.732125e-02</td>\n",
       "      <td>1.631757e-01</td>\n",
       "      <td>-4.655420e+00</td>\n",
       "      <td>-2.401825e-02</td>\n",
       "      <td>6.038679e-03</td>\n",
       "      <td>3.729276e-02</td>\n",
       "      <td>3.175688e+00</td>\n",
       "    </tr>\n",
       "  </tbody>\n",
       "</table>\n",
       "</div>"
      ],
      "text/plain": [
       "                                count          mean           std  \\\n",
       "id                            44039.0  1.496087e+06  8.589188e+05   \n",
       "parcelid                      44039.0  1.297207e+07  2.150385e+06   \n",
       "bathroomcnt                   44039.0  2.085561e+00  7.363994e-01   \n",
       "bedroomcnt                    44039.0  3.199550e+00  8.478721e-01   \n",
       "calculatedfinishedsquarefeet  44039.0  1.689670e+03  6.374105e+02   \n",
       "latitude                      44039.0  3.402260e+07  2.701766e+05   \n",
       "longitude                     44039.0 -1.181883e+08  3.532717e+05   \n",
       "lotsizesquarefeet             44039.0  7.032648e+03  2.869854e+03   \n",
       "regionidzip                   44039.0  9.658975e+04  2.536313e+03   \n",
       "yearbuilt                     44015.0  1.961509e+03  2.176626e+01   \n",
       "taxvaluedollarcnt             44039.0  3.620064e+05  2.319986e+05   \n",
       "landtaxvaluedollarcnt         44039.0  2.237936e+05  1.799820e+05   \n",
       "taxamount                     44039.0  4.485222e+03  2.615717e+03   \n",
       "logerror                      44039.0  1.732125e-02  1.631757e-01   \n",
       "\n",
       "                                       min           25%           50%  \\\n",
       "id                            3.550000e+02  7.582770e+05  1.497808e+06   \n",
       "parcelid                      1.071186e+07  1.151226e+07  1.261842e+07   \n",
       "bathroomcnt                   1.000000e+00  2.000000e+00  2.000000e+00   \n",
       "bedroomcnt                    0.000000e+00  3.000000e+00  3.000000e+00   \n",
       "calculatedfinishedsquarefeet  1.520000e+02  1.227000e+03  1.555000e+03   \n",
       "latitude                      3.334085e+07  3.382998e+07  3.400756e+07   \n",
       "longitude                    -1.194753e+08 -1.183809e+08 -1.181401e+08   \n",
       "lotsizesquarefeet             2.360000e+02  5.434000e+03  6.600000e+03   \n",
       "regionidzip                   9.598200e+04  9.621200e+04  9.641500e+04   \n",
       "yearbuilt                     1.878000e+03  1.950000e+03  1.959000e+03   \n",
       "taxvaluedollarcnt             3.254000e+03  1.717180e+05  3.304610e+05   \n",
       "landtaxvaluedollarcnt         2.250000e+03  6.289950e+04  1.880420e+05   \n",
       "taxamount                     4.918000e+01  2.417160e+03  4.172600e+03   \n",
       "logerror                     -4.655420e+00 -2.401825e-02  6.038679e-03   \n",
       "\n",
       "                                       75%           max  \n",
       "id                            2.240202e+06  2.982167e+06  \n",
       "parcelid                      1.410872e+07  1.629608e+08  \n",
       "bathroomcnt                   2.500000e+00  4.000000e+00  \n",
       "bedroomcnt                    4.000000e+00  6.000000e+00  \n",
       "calculatedfinishedsquarefeet  2.036000e+03  5.493000e+03  \n",
       "latitude                      3.419034e+07  3.472023e+07  \n",
       "longitude                    -1.179355e+08 -1.175546e+08  \n",
       "lotsizesquarefeet             7.976000e+03  1.993300e+04  \n",
       "regionidzip                   9.699600e+04  3.996750e+05  \n",
       "yearbuilt                     1.976000e+03  2.016000e+03  \n",
       "taxvaluedollarcnt             5.090000e+05  1.103000e+06  \n",
       "landtaxvaluedollarcnt         3.383440e+05  1.014228e+06  \n",
       "taxamount                     6.135560e+03  1.190962e+04  \n",
       "logerror                      3.729276e-02  3.175688e+00  "
      ]
     },
     "execution_count": 4,
     "metadata": {},
     "output_type": "execute_result"
    }
   ],
   "source": [
    "clean_df.describe().T"
   ]
  },
  {
   "cell_type": "code",
   "execution_count": 5,
   "metadata": {},
   "outputs": [
    {
     "name": "stdout",
     "output_type": "stream",
     "text": [
      "<class 'pandas.core.frame.DataFrame'>\n",
      "Int64Index: 44039 entries, 0 to 77573\n",
      "Data columns (total 16 columns):\n",
      " #   Column                        Non-Null Count  Dtype  \n",
      "---  ------                        --------------  -----  \n",
      " 0   id                            44039 non-null  int64  \n",
      " 1   parcelid                      44039 non-null  int64  \n",
      " 2   bathroomcnt                   44039 non-null  float64\n",
      " 3   bedroomcnt                    44039 non-null  float64\n",
      " 4   calculatedfinishedsquarefeet  44039 non-null  float64\n",
      " 5   latitude                      44039 non-null  float64\n",
      " 6   longitude                     44039 non-null  float64\n",
      " 7   lotsizesquarefeet             44039 non-null  float64\n",
      " 8   regionidzip                   44039 non-null  float64\n",
      " 9   yearbuilt                     44015 non-null  float64\n",
      " 10  taxvaluedollarcnt             44039 non-null  float64\n",
      " 11  landtaxvaluedollarcnt         44039 non-null  float64\n",
      " 12  taxamount                     44039 non-null  float64\n",
      " 13  logerror                      44039 non-null  float64\n",
      " 14  propertylandusedesc           44039 non-null  object \n",
      " 15  county                        44039 non-null  object \n",
      "dtypes: float64(12), int64(2), object(2)\n",
      "memory usage: 5.7+ MB\n"
     ]
    }
   ],
   "source": [
    "clean_df.info()"
   ]
  },
  {
   "cell_type": "code",
   "execution_count": 6,
   "metadata": {},
   "outputs": [],
   "source": [
    "train, validate, test = wr.train_validate_test_split(clean_df)"
   ]
  },
  {
   "cell_type": "code",
   "execution_count": 7,
   "metadata": {},
   "outputs": [
    {
     "data": {
      "text/html": [
       "<div>\n",
       "<style scoped>\n",
       "    .dataframe tbody tr th:only-of-type {\n",
       "        vertical-align: middle;\n",
       "    }\n",
       "\n",
       "    .dataframe tbody tr th {\n",
       "        vertical-align: top;\n",
       "    }\n",
       "\n",
       "    .dataframe thead th {\n",
       "        text-align: right;\n",
       "    }\n",
       "</style>\n",
       "<table border=\"1\" class=\"dataframe\">\n",
       "  <thead>\n",
       "    <tr style=\"text-align: right;\">\n",
       "      <th></th>\n",
       "      <th>id</th>\n",
       "      <th>parcelid</th>\n",
       "      <th>bathroomcnt</th>\n",
       "      <th>bedroomcnt</th>\n",
       "      <th>calculatedfinishedsquarefeet</th>\n",
       "      <th>latitude</th>\n",
       "      <th>longitude</th>\n",
       "      <th>lotsizesquarefeet</th>\n",
       "      <th>regionidzip</th>\n",
       "      <th>yearbuilt</th>\n",
       "      <th>taxvaluedollarcnt</th>\n",
       "      <th>landtaxvaluedollarcnt</th>\n",
       "      <th>taxamount</th>\n",
       "      <th>logerror</th>\n",
       "      <th>propertylandusedesc</th>\n",
       "      <th>county</th>\n",
       "    </tr>\n",
       "  </thead>\n",
       "  <tbody>\n",
       "    <tr>\n",
       "      <th>66141</th>\n",
       "      <td>1475377</td>\n",
       "      <td>13977911</td>\n",
       "      <td>2.5</td>\n",
       "      <td>2.0</td>\n",
       "      <td>1738.0</td>\n",
       "      <td>33683792.0</td>\n",
       "      <td>-118003519.0</td>\n",
       "      <td>2086.0</td>\n",
       "      <td>96966.0</td>\n",
       "      <td>2002.0</td>\n",
       "      <td>802047.0</td>\n",
       "      <td>607639.0</td>\n",
       "      <td>8997.18</td>\n",
       "      <td>0.012019</td>\n",
       "      <td>Single Family Residential</td>\n",
       "      <td>Orange</td>\n",
       "    </tr>\n",
       "    <tr>\n",
       "      <th>52955</th>\n",
       "      <td>2856452</td>\n",
       "      <td>12631010</td>\n",
       "      <td>2.0</td>\n",
       "      <td>3.0</td>\n",
       "      <td>1449.0</td>\n",
       "      <td>33797505.0</td>\n",
       "      <td>-118266036.0</td>\n",
       "      <td>5171.0</td>\n",
       "      <td>96228.0</td>\n",
       "      <td>1958.0</td>\n",
       "      <td>270562.0</td>\n",
       "      <td>201596.0</td>\n",
       "      <td>3432.97</td>\n",
       "      <td>0.079414</td>\n",
       "      <td>Single Family Residential</td>\n",
       "      <td>LA</td>\n",
       "    </tr>\n",
       "    <tr>\n",
       "      <th>58700</th>\n",
       "      <td>1583746</td>\n",
       "      <td>11091389</td>\n",
       "      <td>3.0</td>\n",
       "      <td>4.0</td>\n",
       "      <td>2184.0</td>\n",
       "      <td>34246628.0</td>\n",
       "      <td>-118544155.0</td>\n",
       "      <td>7460.0</td>\n",
       "      <td>96354.0</td>\n",
       "      <td>1963.0</td>\n",
       "      <td>410556.0</td>\n",
       "      <td>235603.0</td>\n",
       "      <td>5088.77</td>\n",
       "      <td>0.029079</td>\n",
       "      <td>Single Family Residential</td>\n",
       "      <td>LA</td>\n",
       "    </tr>\n",
       "    <tr>\n",
       "      <th>71744</th>\n",
       "      <td>1755016</td>\n",
       "      <td>12991299</td>\n",
       "      <td>2.0</td>\n",
       "      <td>3.0</td>\n",
       "      <td>1124.0</td>\n",
       "      <td>34063430.0</td>\n",
       "      <td>-117976280.0</td>\n",
       "      <td>5836.0</td>\n",
       "      <td>96490.0</td>\n",
       "      <td>1955.0</td>\n",
       "      <td>263032.0</td>\n",
       "      <td>157331.0</td>\n",
       "      <td>3475.87</td>\n",
       "      <td>0.022649</td>\n",
       "      <td>Single Family Residential</td>\n",
       "      <td>LA</td>\n",
       "    </tr>\n",
       "    <tr>\n",
       "      <th>58380</th>\n",
       "      <td>2632563</td>\n",
       "      <td>12616571</td>\n",
       "      <td>2.0</td>\n",
       "      <td>3.0</td>\n",
       "      <td>1286.0</td>\n",
       "      <td>33849772.0</td>\n",
       "      <td>-118252964.0</td>\n",
       "      <td>4626.0</td>\n",
       "      <td>96230.0</td>\n",
       "      <td>1970.0</td>\n",
       "      <td>326748.0</td>\n",
       "      <td>221638.0</td>\n",
       "      <td>4518.19</td>\n",
       "      <td>0.006161</td>\n",
       "      <td>Single Family Residential</td>\n",
       "      <td>LA</td>\n",
       "    </tr>\n",
       "    <tr>\n",
       "      <th>...</th>\n",
       "      <td>...</td>\n",
       "      <td>...</td>\n",
       "      <td>...</td>\n",
       "      <td>...</td>\n",
       "      <td>...</td>\n",
       "      <td>...</td>\n",
       "      <td>...</td>\n",
       "      <td>...</td>\n",
       "      <td>...</td>\n",
       "      <td>...</td>\n",
       "      <td>...</td>\n",
       "      <td>...</td>\n",
       "      <td>...</td>\n",
       "      <td>...</td>\n",
       "      <td>...</td>\n",
       "      <td>...</td>\n",
       "    </tr>\n",
       "    <tr>\n",
       "      <th>29998</th>\n",
       "      <td>1518169</td>\n",
       "      <td>14202632</td>\n",
       "      <td>3.0</td>\n",
       "      <td>5.0</td>\n",
       "      <td>2834.0</td>\n",
       "      <td>33880952.0</td>\n",
       "      <td>-117703856.0</td>\n",
       "      <td>8800.0</td>\n",
       "      <td>97079.0</td>\n",
       "      <td>1990.0</td>\n",
       "      <td>590931.0</td>\n",
       "      <td>300265.0</td>\n",
       "      <td>7061.22</td>\n",
       "      <td>-0.011512</td>\n",
       "      <td>Single Family Residential</td>\n",
       "      <td>Orange</td>\n",
       "    </tr>\n",
       "    <tr>\n",
       "      <th>23319</th>\n",
       "      <td>2243609</td>\n",
       "      <td>12190057</td>\n",
       "      <td>1.0</td>\n",
       "      <td>2.0</td>\n",
       "      <td>736.0</td>\n",
       "      <td>33975813.0</td>\n",
       "      <td>-118284277.0</td>\n",
       "      <td>5400.0</td>\n",
       "      <td>96025.0</td>\n",
       "      <td>1918.0</td>\n",
       "      <td>123809.0</td>\n",
       "      <td>88045.0</td>\n",
       "      <td>1626.00</td>\n",
       "      <td>-0.059803</td>\n",
       "      <td>Single Family Residential</td>\n",
       "      <td>LA</td>\n",
       "    </tr>\n",
       "    <tr>\n",
       "      <th>18509</th>\n",
       "      <td>209760</td>\n",
       "      <td>17271049</td>\n",
       "      <td>2.5</td>\n",
       "      <td>4.0</td>\n",
       "      <td>2614.0</td>\n",
       "      <td>34172606.0</td>\n",
       "      <td>-118948759.0</td>\n",
       "      <td>7254.0</td>\n",
       "      <td>96351.0</td>\n",
       "      <td>1979.0</td>\n",
       "      <td>698056.0</td>\n",
       "      <td>349028.0</td>\n",
       "      <td>7791.36</td>\n",
       "      <td>0.014498</td>\n",
       "      <td>Single Family Residential</td>\n",
       "      <td>Ventura</td>\n",
       "    </tr>\n",
       "    <tr>\n",
       "      <th>19779</th>\n",
       "      <td>2369101</td>\n",
       "      <td>14484432</td>\n",
       "      <td>3.0</td>\n",
       "      <td>4.0</td>\n",
       "      <td>3046.0</td>\n",
       "      <td>33622587.0</td>\n",
       "      <td>-117620226.0</td>\n",
       "      <td>5000.0</td>\n",
       "      <td>96993.0</td>\n",
       "      <td>1992.0</td>\n",
       "      <td>876000.0</td>\n",
       "      <td>535241.0</td>\n",
       "      <td>11098.68</td>\n",
       "      <td>-0.078957</td>\n",
       "      <td>Single Family Residential</td>\n",
       "      <td>Orange</td>\n",
       "    </tr>\n",
       "    <tr>\n",
       "      <th>57854</th>\n",
       "      <td>569784</td>\n",
       "      <td>11161278</td>\n",
       "      <td>1.0</td>\n",
       "      <td>3.0</td>\n",
       "      <td>1329.0</td>\n",
       "      <td>34451356.0</td>\n",
       "      <td>-118388445.0</td>\n",
       "      <td>7027.0</td>\n",
       "      <td>96401.0</td>\n",
       "      <td>1972.0</td>\n",
       "      <td>182283.0</td>\n",
       "      <td>53480.0</td>\n",
       "      <td>2720.84</td>\n",
       "      <td>0.012135</td>\n",
       "      <td>Single Family Residential</td>\n",
       "      <td>LA</td>\n",
       "    </tr>\n",
       "  </tbody>\n",
       "</table>\n",
       "<p>24661 rows × 16 columns</p>\n",
       "</div>"
      ],
      "text/plain": [
       "            id  parcelid  bathroomcnt  bedroomcnt  \\\n",
       "66141  1475377  13977911          2.5         2.0   \n",
       "52955  2856452  12631010          2.0         3.0   \n",
       "58700  1583746  11091389          3.0         4.0   \n",
       "71744  1755016  12991299          2.0         3.0   \n",
       "58380  2632563  12616571          2.0         3.0   \n",
       "...        ...       ...          ...         ...   \n",
       "29998  1518169  14202632          3.0         5.0   \n",
       "23319  2243609  12190057          1.0         2.0   \n",
       "18509   209760  17271049          2.5         4.0   \n",
       "19779  2369101  14484432          3.0         4.0   \n",
       "57854   569784  11161278          1.0         3.0   \n",
       "\n",
       "       calculatedfinishedsquarefeet    latitude    longitude  \\\n",
       "66141                        1738.0  33683792.0 -118003519.0   \n",
       "52955                        1449.0  33797505.0 -118266036.0   \n",
       "58700                        2184.0  34246628.0 -118544155.0   \n",
       "71744                        1124.0  34063430.0 -117976280.0   \n",
       "58380                        1286.0  33849772.0 -118252964.0   \n",
       "...                             ...         ...          ...   \n",
       "29998                        2834.0  33880952.0 -117703856.0   \n",
       "23319                         736.0  33975813.0 -118284277.0   \n",
       "18509                        2614.0  34172606.0 -118948759.0   \n",
       "19779                        3046.0  33622587.0 -117620226.0   \n",
       "57854                        1329.0  34451356.0 -118388445.0   \n",
       "\n",
       "       lotsizesquarefeet  regionidzip  yearbuilt  taxvaluedollarcnt  \\\n",
       "66141             2086.0      96966.0     2002.0           802047.0   \n",
       "52955             5171.0      96228.0     1958.0           270562.0   \n",
       "58700             7460.0      96354.0     1963.0           410556.0   \n",
       "71744             5836.0      96490.0     1955.0           263032.0   \n",
       "58380             4626.0      96230.0     1970.0           326748.0   \n",
       "...                  ...          ...        ...                ...   \n",
       "29998             8800.0      97079.0     1990.0           590931.0   \n",
       "23319             5400.0      96025.0     1918.0           123809.0   \n",
       "18509             7254.0      96351.0     1979.0           698056.0   \n",
       "19779             5000.0      96993.0     1992.0           876000.0   \n",
       "57854             7027.0      96401.0     1972.0           182283.0   \n",
       "\n",
       "       landtaxvaluedollarcnt  taxamount  logerror        propertylandusedesc  \\\n",
       "66141               607639.0    8997.18  0.012019  Single Family Residential   \n",
       "52955               201596.0    3432.97  0.079414  Single Family Residential   \n",
       "58700               235603.0    5088.77  0.029079  Single Family Residential   \n",
       "71744               157331.0    3475.87  0.022649  Single Family Residential   \n",
       "58380               221638.0    4518.19  0.006161  Single Family Residential   \n",
       "...                      ...        ...       ...                        ...   \n",
       "29998               300265.0    7061.22 -0.011512  Single Family Residential   \n",
       "23319                88045.0    1626.00 -0.059803  Single Family Residential   \n",
       "18509               349028.0    7791.36  0.014498  Single Family Residential   \n",
       "19779               535241.0   11098.68 -0.078957  Single Family Residential   \n",
       "57854                53480.0    2720.84  0.012135  Single Family Residential   \n",
       "\n",
       "        county  \n",
       "66141   Orange  \n",
       "52955       LA  \n",
       "58700       LA  \n",
       "71744       LA  \n",
       "58380       LA  \n",
       "...        ...  \n",
       "29998   Orange  \n",
       "23319       LA  \n",
       "18509  Ventura  \n",
       "19779   Orange  \n",
       "57854       LA  \n",
       "\n",
       "[24661 rows x 16 columns]"
      ]
     },
     "execution_count": 7,
     "metadata": {},
     "output_type": "execute_result"
    }
   ],
   "source": [
    "train"
   ]
  },
  {
   "cell_type": "markdown",
   "metadata": {},
   "source": [
    "### Exploration hypotheses:\n",
    "- county influences log error\n",
    "- tax value influences log error\n",
    "- year buit influences log error\n",
    "- california tax rate is set at 1%, but I know from previous work there are some outliers in tax rate. Perhaps look at those?"
   ]
  },
  {
   "cell_type": "code",
   "execution_count": 9,
   "metadata": {},
   "outputs": [
    {
     "name": "stdout",
     "output_type": "stream",
     "text": [
      "<class 'pandas.core.frame.DataFrame'>\n",
      "Int64Index: 44039 entries, 0 to 77573\n",
      "Data columns (total 16 columns):\n",
      " #   Column                        Non-Null Count  Dtype  \n",
      "---  ------                        --------------  -----  \n",
      " 0   id                            44039 non-null  int64  \n",
      " 1   parcelid                      44039 non-null  int64  \n",
      " 2   bathroomcnt                   44039 non-null  float64\n",
      " 3   bedroomcnt                    44039 non-null  float64\n",
      " 4   calculatedfinishedsquarefeet  44039 non-null  float64\n",
      " 5   latitude                      44039 non-null  float64\n",
      " 6   longitude                     44039 non-null  float64\n",
      " 7   lotsizesquarefeet             44039 non-null  float64\n",
      " 8   regionidzip                   44039 non-null  float64\n",
      " 9   yearbuilt                     44015 non-null  float64\n",
      " 10  taxvaluedollarcnt             44039 non-null  float64\n",
      " 11  landtaxvaluedollarcnt         44039 non-null  float64\n",
      " 12  taxamount                     44039 non-null  float64\n",
      " 13  logerror                      44039 non-null  float64\n",
      " 14  propertylandusedesc           44039 non-null  object \n",
      " 15  county                        44039 non-null  object \n",
      "dtypes: float64(12), int64(2), object(2)\n",
      "memory usage: 5.7+ MB\n"
     ]
    }
   ],
   "source": [
    "clean_df.info()"
   ]
  },
  {
   "cell_type": "code",
   "execution_count": null,
   "metadata": {},
   "outputs": [],
   "source": []
  }
 ],
 "metadata": {
  "kernelspec": {
   "display_name": "Python 3",
   "language": "python",
   "name": "python3"
  },
  "language_info": {
   "codemirror_mode": {
    "name": "ipython",
    "version": 3
   },
   "file_extension": ".py",
   "mimetype": "text/x-python",
   "name": "python",
   "nbconvert_exporter": "python",
   "pygments_lexer": "ipython3",
   "version": "3.8.5"
  },
  "toc-showcode": true
 },
 "nbformat": 4,
 "nbformat_minor": 4
}
